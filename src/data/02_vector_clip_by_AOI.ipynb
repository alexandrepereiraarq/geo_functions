{
 "cells": [
  {
   "cell_type": "markdown",
   "metadata": {},
   "source": [
    "# Init"
   ]
  },
  {
   "cell_type": "code",
   "execution_count": 1,
   "metadata": {},
   "outputs": [],
   "source": [
    "import pandas as pd\n",
    "import numpy as np\n",
    "import geopandas as gpd\n",
    "import matplotlib.pyplot as plt\n",
    "from pathlib import Path"
   ]
  },
  {
   "cell_type": "markdown",
   "metadata": {},
   "source": [
    "# Inputs"
   ]
  },
  {
   "cell_type": "code",
   "execution_count": null,
   "metadata": {},
   "outputs": [],
   "source": [
    "#import the AOI\n",
    "AOI_path = Path('')\n",
    "AOI_file = 'AOI.shp'\n",
    "AOI_gdf = gpd.read_file(AOI_path / AOI_file)\n",
    "\n",
    "#import file to be clipped\n",
    "to_clip_path = Path('')\n",
    "to_clip_file = 'clipped_file.shp'\n",
    "to_clip_gdf = gpd.read_file(clipped_path / clipped_file)"
   ]
  },
  {
   "cell_type": "markdown",
   "metadata": {},
   "source": [
    "# Edit"
   ]
  },
  {
   "cell_type": "code",
   "execution_count": null,
   "metadata": {},
   "outputs": [],
   "source": [
    "#read the AOI CRS\n",
    "AOI_crs = AOI_gdf.crs\n",
    "\n",
    "#set the CRS of the file to be clipped to the AOI CRS\n",
    "to_clip_gdf.set_crs(AOI_crs, inplace=True)\n",
    "\n",
    "#clip the file to the AOI\n",
    "clipped_gdf = gpd.clip(to_clip_gdf, AOI_gdf)\n"
   ]
  },
  {
   "cell_type": "markdown",
   "metadata": {},
   "source": [
    "# Export"
   ]
  },
  {
   "cell_type": "code",
   "execution_count": null,
   "metadata": {},
   "outputs": [],
   "source": [
    "#export the clipped geodataframe\n",
    "export_path = Path('')\n",
    "export_file = 'clipped_file.shp'\n",
    "clipped_gdf.to_file(export_path / export_file )"
   ]
  },
  {
   "cell_type": "markdown",
   "metadata": {},
   "source": []
  }
 ],
 "metadata": {
  "kernelspec": {
   "display_name": "Python 3",
   "language": "python",
   "name": "python3"
  },
  "language_info": {
   "codemirror_mode": {
    "name": "ipython",
    "version": 3
   },
   "file_extension": ".py",
   "mimetype": "text/x-python",
   "name": "python",
   "nbconvert_exporter": "python",
   "pygments_lexer": "ipython3",
   "version": "3.11.7"
  }
 },
 "nbformat": 4,
 "nbformat_minor": 2
}
