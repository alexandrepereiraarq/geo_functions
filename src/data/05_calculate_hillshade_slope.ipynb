{
 "cells": [
  {
   "cell_type": "markdown",
   "metadata": {},
   "source": [
    "# init"
   ]
  },
  {
   "cell_type": "code",
   "execution_count": 3,
   "metadata": {},
   "outputs": [],
   "source": [
    "import geopandas as gpd\n",
    "import rasterio\n",
    "from rasterio.mask import mask\n",
    "from rasterio.plot import show\n",
    "from shapely.geometry import mapping\n",
    "import matplotlib.pyplot as plt\n",
    "from pathlib import Path\n",
    "from rasterio.transform import from_origin\n",
    "import json\n",
    "import richdem as rd"
   ]
  },
  {
   "cell_type": "code",
   "execution_count": 51,
   "metadata": {},
   "outputs": [],
   "source": [
    "#hillshade function from geoexamples.blogspot.com\n",
    "# Source: http://geoexamples.blogspot.com.br/2014/03/shaded-relief-images-using-gdal-python.html\n",
    "def hillshade(array, azimuth, angle_altitude):\n",
    "\n",
    "    x, y = np.gradient(array)\n",
    "    slope = np.pi/2. - np.arctan(np.sqrt(x*x + y*y))\n",
    "    aspect = np.arctan2(-x, y)\n",
    "    azimuthrad = azimuth*np.pi / 180.\n",
    "    altituderad = angle_altitude*np.pi / 180.\n",
    "\n",
    "\n",
    "    shaded = np.sin(altituderad) * np.sin(slope) \\\n",
    "     + np.cos(altituderad) * np.cos(slope) \\\n",
    "     * np.cos(azimuthrad - aspect)\n",
    "    return 255*(shaded + 1)/2"
   ]
  },
  {
   "cell_type": "code",
   "execution_count": null,
   "metadata": {},
   "outputs": [],
   "source": [
    "# slope function \n",
    "def slope(array):\n",
    "    x, y = np.gradient(array)\n",
    "    slope = np.pi/2. - np.arctan(np.sqrt(x*x + y*y))\n",
    "    return slope"
   ]
  },
  {
   "cell_type": "markdown",
   "metadata": {},
   "source": [
    "# input"
   ]
  },
  {
   "cell_type": "code",
   "execution_count": 6,
   "metadata": {},
   "outputs": [],
   "source": [
    "#input a raster file\n",
    "raster_path = Path(\"D:\\\\Dropbox\\\\x\\\\PostDoc\\\\23 10 LMU\\\\13 exp_cases\\\\24 01 Urban SSP MAN MUM JAK\\\\GIS_temp\\\\\")\n",
    "raster_file = 'MUM_URB_urban_evolution_EOC_WUF.tif'\n",
    "in_raster = rasterio.open(raster_path/raster_file)\n",
    "\n",
    "#get the values to extract\n",
    "values_list = [1985, 2000, 2015]"
   ]
  },
  {
   "cell_type": "code",
   "execution_count": 52,
   "metadata": {},
   "outputs": [],
   "source": [
    "extracted_raster_list = extract_rasters(in_raster.read(1), values_list)"
   ]
  },
  {
   "cell_type": "code",
   "execution_count": 53,
   "metadata": {},
   "outputs": [
    {
     "data": {
      "text/plain": [
       "[array([[False, False, False, ..., False, False, False],\n",
       "        [False, False, False, ..., False, False, False],\n",
       "        [False, False, False, ..., False, False, False],\n",
       "        ...,\n",
       "        [False, False, False, ..., False, False, False],\n",
       "        [False, False, False, ..., False, False, False],\n",
       "        [False, False, False, ..., False, False, False]]),\n",
       " array([[False, False, False, ..., False, False, False],\n",
       "        [False, False, False, ..., False, False, False],\n",
       "        [False, False, False, ..., False, False, False],\n",
       "        ...,\n",
       "        [False, False, False, ..., False, False, False],\n",
       "        [False, False, False, ..., False, False, False],\n",
       "        [False, False, False, ..., False, False, False]]),\n",
       " array([[False, False, False, ..., False, False, False],\n",
       "        [False, False, False, ..., False, False, False],\n",
       "        [False, False, False, ..., False, False, False],\n",
       "        ...,\n",
       "        [False, False, False, ..., False, False, False],\n",
       "        [False, False, False, ..., False, False, False],\n",
       "        [False, False, False, ..., False, False, False]])]"
      ]
     },
     "execution_count": 53,
     "metadata": {},
     "output_type": "execute_result"
    }
   ],
   "source": [
    "extracted_raster_list"
   ]
  },
  {
   "cell_type": "code",
   "execution_count": 55,
   "metadata": {},
   "outputs": [
    {
     "name": "stdout",
     "output_type": "stream",
     "text": [
      "0 D:\\Dropbox\\x\\PostDoc\\23 10 LMU\\13 exp_cases\\24 01 Urban SSP MAN MUM JAK\\GIS_temp\\MUM_URB_urbanisation_1985_EOC_WUF.tif [[0 0 0 ... 0 0 0]\n",
      " [0 0 0 ... 0 0 0]\n",
      " [0 0 0 ... 0 0 0]\n",
      " ...\n",
      " [0 0 0 ... 0 0 0]\n",
      " [0 0 0 ... 0 0 0]\n",
      " [0 0 0 ... 0 0 0]]\n",
      "1 D:\\Dropbox\\x\\PostDoc\\23 10 LMU\\13 exp_cases\\24 01 Urban SSP MAN MUM JAK\\GIS_temp\\MUM_URB_urbanisation_2000_EOC_WUF.tif [[0 0 0 ... 0 0 0]\n",
      " [0 0 0 ... 0 0 0]\n",
      " [0 0 0 ... 0 0 0]\n",
      " ...\n",
      " [0 0 0 ... 0 0 0]\n",
      " [0 0 0 ... 0 0 0]\n",
      " [0 0 0 ... 0 0 0]]\n",
      "2 D:\\Dropbox\\x\\PostDoc\\23 10 LMU\\13 exp_cases\\24 01 Urban SSP MAN MUM JAK\\GIS_temp\\MUM_URB_urbanisation_2015_EOC_WUF.tif [[0 0 0 ... 0 0 0]\n",
      " [0 0 0 ... 0 0 0]\n",
      " [0 0 0 ... 0 0 0]\n",
      " ...\n",
      " [0 0 0 ... 0 0 0]\n",
      " [0 0 0 ... 0 0 0]\n",
      " [0 0 0 ... 0 0 0]]\n"
     ]
    }
   ],
   "source": [
    "out_path = Path(r'D:\\\\Dropbox\\\\x\\\\PostDoc\\\\23 10 LMU\\\\13 exp_cases\\\\24 01 Urban SSP MAN MUM JAK\\\\GIS_temp\\\\')\n",
    "\n",
    "for n in range(len(values_list)):\n",
    "    out_file = 'MUM_URB_urbanisation_' + str(values_list[n]) + '_EOC_WUF.tif'\n",
    "    out_url = out_path/out_file\n",
    "    print(n, out_url, extracted_raster_list[n].astype(rasterio.uint32))\n",
    "    \n",
    "    with rasterio.open(out_url, \"w\", driver='GTiff',\n",
    "                    height = in_raster.shape[0], width=in_raster.shape[1],\n",
    "                    count=1, dtype=list(in_raster.dtypes)[0],\n",
    "                    crs=in_raster.crs, transform = in_raster.transform) as dest:\n",
    "        dest.write(extracted_raster_list[n].astype(rasterio.uint32), indexes=1)"
   ]
  }
 ],
 "metadata": {
  "kernelspec": {
   "display_name": "Python 3",
   "language": "python",
   "name": "python3"
  },
  "language_info": {
   "codemirror_mode": {
    "name": "ipython",
    "version": 3
   },
   "file_extension": ".py",
   "mimetype": "text/x-python",
   "name": "python",
   "nbconvert_exporter": "python",
   "pygments_lexer": "ipython3",
   "version": "3.11.7"
  }
 },
 "nbformat": 4,
 "nbformat_minor": 2
}
