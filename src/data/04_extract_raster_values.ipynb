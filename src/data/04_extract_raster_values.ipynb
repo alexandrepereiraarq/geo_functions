{
 "cells": [
  {
   "cell_type": "markdown",
   "metadata": {},
   "source": [
    "# init"
   ]
  },
  {
   "cell_type": "code",
   "execution_count": 7,
   "metadata": {},
   "outputs": [],
   "source": [
    "import geopandas as gpd\n",
    "import rasterio\n",
    "from rasterio.mask import mask\n",
    "from rasterio.plot import show\n",
    "from shapely.geometry import mapping\n",
    "import matplotlib.pyplot as plt\n",
    "from pathlib import Path\n",
    "from rasterio.transform import from_origin\n",
    "import json"
   ]
  },
  {
   "cell_type": "code",
   "execution_count": 8,
   "metadata": {},
   "outputs": [],
   "source": [
    "# defining the function to extract the raster values\n",
    "#the function takes two paramters: a raster object and a list of values\n",
    "def extract_rasters(raster, values):\n",
    "    #creating an empty list to store the extracted values\n",
    "    extracted_rasters = [] #maybe this would be best as a dictionary\n",
    "    #looping through the values list\n",
    "    if len(values) == 1:\n",
    "        #creating a mask for the raster\n",
    "        mask = raster == values[0]\n",
    "        #appending the extracted values to the list\n",
    "        extracted_rasters.append(mask)\n",
    "    else:\n",
    "        mask0 = raster == values[0]\n",
    "        extracted_rasters.append(mask0)\n",
    "        for value in range(1, len(values)):\n",
    "            #creating a mask for the raster\n",
    "            mask = (raster <= values[value]) & (raster > 0)\n",
    "            #appending the extracted values to the list\n",
    "            extracted_rasters.append(mask)\n",
    "    #returning the list of extracted values\n",
    "    return extracted_rasters"
   ]
  },
  {
   "cell_type": "markdown",
   "metadata": {},
   "source": [
    "# input"
   ]
  },
  {
   "cell_type": "code",
   "execution_count": 9,
   "metadata": {},
   "outputs": [],
   "source": [
    "#input a raster file\n",
    "raster_path = Path(\"D:\\\\Dropbox\\\\x\\\\PostDoc\\\\23 10 LMU\\\\13 exp_cases\\\\24 01 Urban SSP MAN MUM JAK\\\\GIS_temp\\\\\")\n",
    "raster_file = 'MAN_URB_urban_evolution_EOC_WUF.tif'\n",
    "in_raster = rasterio.open(raster_path/raster_file)\n",
    "\n",
    "#get the values to extract\n",
    "values_list = [1985, 2000, 2015]"
   ]
  },
  {
   "cell_type": "code",
   "execution_count": 11,
   "metadata": {},
   "outputs": [
    {
     "data": {
      "text/plain": [
       "[array([[False, False, False, ..., False, False, False],\n",
       "        [False, False, False, ..., False, False, False],\n",
       "        [False, False, False, ..., False, False, False],\n",
       "        ...,\n",
       "        [False, False, False, ..., False, False, False],\n",
       "        [False, False, False, ..., False, False, False],\n",
       "        [False, False, False, ..., False, False, False]]),\n",
       " array([[False, False, False, ..., False, False, False],\n",
       "        [False, False, False, ..., False, False, False],\n",
       "        [False, False, False, ..., False, False, False],\n",
       "        ...,\n",
       "        [False, False, False, ..., False, False, False],\n",
       "        [False, False, False, ..., False, False, False],\n",
       "        [False, False, False, ..., False, False, False]]),\n",
       " array([[False, False, False, ..., False, False, False],\n",
       "        [False, False, False, ..., False, False, False],\n",
       "        [False, False, False, ..., False, False, False],\n",
       "        ...,\n",
       "        [False, False, False, ..., False, False, False],\n",
       "        [False, False, False, ..., False, False, False],\n",
       "        [False, False, False, ..., False, False, False]])]"
      ]
     },
     "execution_count": 11,
     "metadata": {},
     "output_type": "execute_result"
    }
   ],
   "source": [
    "extracted_raster_list = extract_rasters(in_raster.read(1), values_list)\n",
    "extracted_raster_list"
   ]
  },
  {
   "cell_type": "code",
   "execution_count": 13,
   "metadata": {},
   "outputs": [
    {
     "name": "stdout",
     "output_type": "stream",
     "text": [
      "0 D:\\Dropbox\\x\\PostDoc\\23 10 LMU\\13 exp_cases\\24 01 Urban SSP MAN MUM JAK\\GIS_temp\\MAN_URB_urbanisation_1985_EOC_WUF.tif [[0 0 0 ... 0 0 0]\n",
      " [0 0 0 ... 0 0 0]\n",
      " [0 0 0 ... 0 0 0]\n",
      " ...\n",
      " [0 0 0 ... 0 0 0]\n",
      " [0 0 0 ... 0 0 0]\n",
      " [0 0 0 ... 0 0 0]]\n",
      "1 D:\\Dropbox\\x\\PostDoc\\23 10 LMU\\13 exp_cases\\24 01 Urban SSP MAN MUM JAK\\GIS_temp\\MAN_URB_urbanisation_2000_EOC_WUF.tif [[0 0 0 ... 0 0 0]\n",
      " [0 0 0 ... 0 0 0]\n",
      " [0 0 0 ... 0 0 0]\n",
      " ...\n",
      " [0 0 0 ... 0 0 0]\n",
      " [0 0 0 ... 0 0 0]\n",
      " [0 0 0 ... 0 0 0]]\n",
      "2 D:\\Dropbox\\x\\PostDoc\\23 10 LMU\\13 exp_cases\\24 01 Urban SSP MAN MUM JAK\\GIS_temp\\MAN_URB_urbanisation_2015_EOC_WUF.tif [[0 0 0 ... 0 0 0]\n",
      " [0 0 0 ... 0 0 0]\n",
      " [0 0 0 ... 0 0 0]\n",
      " ...\n",
      " [0 0 0 ... 0 0 0]\n",
      " [0 0 0 ... 0 0 0]\n",
      " [0 0 0 ... 0 0 0]]\n"
     ]
    },
    {
     "ename": "",
     "evalue": "",
     "output_type": "error",
     "traceback": [
      "\u001b[1;31mThe Kernel crashed while executing code in the the current cell or a previous cell. Please review the code in the cell(s) to identify a possible cause of the failure. Click <a href='https://aka.ms/vscodeJupyterKernelCrash'>here</a> for more info. View Jupyter <a href='command:jupyter.viewOutput'>log</a> for further details."
     ]
    }
   ],
   "source": [
    "out_path = Path(r'D:\\\\Dropbox\\\\x\\\\PostDoc\\\\23 10 LMU\\\\13 exp_cases\\\\24 01 Urban SSP MAN MUM JAK\\\\GIS_temp\\\\')\n",
    "\n",
    "for n in range(len(values_list)):\n",
    "    out_file = 'MAN_URB_urbanisation_' + str(values_list[n]) + '_EOC_WUF.tif'\n",
    "    out_url = out_path/out_file\n",
    "    print(n, out_url, extracted_raster_list[n].astype(rasterio.uint32))\n",
    "    \n",
    "    with rasterio.open(out_url, \"w\", driver='GTiff',\n",
    "                    height = in_raster.shape[0], width=in_raster.shape[1],\n",
    "                    count=1, dtype=list(in_raster.dtypes)[0],\n",
    "                    crs=in_raster.crs, transform = in_raster.transform) as dest:\n",
    "        dest.write(extracted_raster_list[n].astype(rasterio.uint32), indexes=1)"
   ]
  }
 ],
 "metadata": {
  "kernelspec": {
   "display_name": "Python 3",
   "language": "python",
   "name": "python3"
  },
  "language_info": {
   "codemirror_mode": {
    "name": "ipython",
    "version": 3
   },
   "file_extension": ".py",
   "mimetype": "text/x-python",
   "name": "python",
   "nbconvert_exporter": "python",
   "pygments_lexer": "ipython3",
   "version": "3.11.7"
  }
 },
 "nbformat": 4,
 "nbformat_minor": 2
}
