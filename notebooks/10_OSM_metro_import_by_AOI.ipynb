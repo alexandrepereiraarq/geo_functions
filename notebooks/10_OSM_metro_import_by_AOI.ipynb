{
 "cells": [
  {
   "cell_type": "markdown",
   "metadata": {},
   "source": [
    "# init\n",
    "@author: Alexandre Pereira Santos <br>\n",
    "alexandre.santos(at)lmu.de\n",
    "\n",
    "## Tasks\n",
    "- get OpenStreetMap data using the osmnx functionalities in the Overpass API\n",
    "- clip it to an AOI\n",
    "\n",
    "## Prerequisites\n",
    "- have osmnx and geopandas installed\n",
    "- have an AOI saved as a vector (shapefile or geopackage)"
   ]
  },
  {
   "cell_type": "code",
   "execution_count": null,
   "metadata": {},
   "outputs": [],
   "source": [
    "import osmnx as ox\n",
    "import geopandas as gpd\n",
    "from pathlib import Path"
   ]
  },
  {
   "cell_type": "markdown",
   "metadata": {},
   "source": [
    "# imports"
   ]
  },
  {
   "cell_type": "code",
   "execution_count": null,
   "metadata": {},
   "outputs": [],
   "source": [
    "#import the AOI\n",
    "AOI_path = Path('../data/processed/')\n",
    "AOI_file = 'MAN_LIM_BoundingBox_AOI_A.shp'\n",
    "AOI_gdf = gpd.read_file(AOI_path / AOI_file)"
   ]
  },
  {
   "cell_type": "code",
   "execution_count": null,
   "metadata": {},
   "outputs": [],
   "source": [
    "#bounds provides minx, miny, maxx, maxy\n",
    "aoi_coords = AOI_gdf.to_crs(epsg='4326').envelope\n",
    "bbox_df = gpd.GeoDataFrame(geometry=aoi_coords)\n",
    "print('N',aoi_coords.bounds.values[0][3],'S',aoi_coords.bounds.values[0][1],'W',aoi_coords.bounds.values[0][0],'E',aoi_coords.bounds.values[0][2])"
   ]
  },
  {
   "cell_type": "code",
   "execution_count": null,
   "metadata": {},
   "outputs": [],
   "source": [
    "#get rail features from OSM\n",
    "# List key-value pairs for tags\n",
    "tags = {'railway': ['light_rail', '\tmonorail', 'narrow_gauge', 'rail', 'subway', '\ttram']}\n",
    "col_list = ['osmid','name','source','geometry', 'railway','usage'] #OSM has hundreds of cols, we just want a few. For info, check https://wiki.openstreetmap.org/wiki/Key:railway\n",
    "\n",
    "rail = ox.features_from_bbox(north=aoi_coords.bounds.values[0][3],\n",
    "                              south=aoi_coords.bounds.values[0][1],\n",
    "                              west=aoi_coords.bounds.values[0][0],\n",
    "                              east=aoi_coords.bounds.values[0][2],\n",
    "                              tags=tags)\n",
    "rail.reset_index(inplace=True)\n",
    "\n",
    "#filtering out the wrong geometries (POLYGON or POINT) and element types (NODE)\n",
    "rail = rail.loc[(rail.geometry.type=='LineString'), col_list] #&(rail.element_type == 'way')\n",
    "#convert the CRS of roads to the same as AOI\n",
    "rail.to_crs(AOI_gdf.crs,inplace=True)\n",
    "\n",
    "#plot them\n",
    "rail.plot('railway',ax=AOI_gdf.plot(figsize=(10, 10),  alpha=0.5, color='lightgray'),cmap='Paired', linewidth=1, zorder=2)"
   ]
  },
  {
   "cell_type": "code",
   "execution_count": null,
   "metadata": {},
   "outputs": [],
   "source": [
    "# get points with stations from OSM\n",
    "# List key-value pairs for tags\n",
    "tags = {'railway': ['station']} # see https://wiki.openstreetmap.org/wiki/Key:railway for more info\n",
    "col_list = ['osmid','name','geometry', 'railway', 'network'] #OSM has hundreds of cols, we just want a few. For info, check https://wiki.openstreetmap.org/wiki/Tag:railway%3Dsubway 'line_served',\n",
    "\n",
    "stations = ox.features_from_bbox(north=aoi_coords.bounds.values[0][3],\n",
    "                              south=aoi_coords.bounds.values[0][1],\n",
    "                              west=aoi_coords.bounds.values[0][0],\n",
    "                              east=aoi_coords.bounds.values[0][2],\n",
    "                              tags=tags)\n",
    "stations.reset_index(inplace=True)\n",
    "\n",
    "#filtering out the wrong geometries (POLYGON or POINT) and element types (NODE)\n",
    "stations = stations.loc[(stations.geometry.type=='Point'), col_list] #&(places.element_type == 'way')\n",
    "#convert the CRS of roads to the same as AOI\n",
    "stations.to_crs(AOI_gdf.crs,inplace=True)\n",
    "\n",
    "#plot them\n",
    "stations.plot('railway',ax=AOI_gdf.plot(figsize=(10, 10),  alpha=0.5, color='lightgray'),cmap='Paired',  zorder=2) #linewidth=1,"
   ]
  },
  {
   "cell_type": "code",
   "execution_count": null,
   "metadata": {},
   "outputs": [],
   "source": [
    "stations.columns"
   ]
  },
  {
   "cell_type": "code",
   "execution_count": null,
   "metadata": {},
   "outputs": [],
   "source": [
    "#clip using geopandas, the mask is the AOI we imported above\n",
    "rail_clipped = gpd.clip(rail, mask=AOI_gdf, keep_geom_type=True)\n",
    "rail_clipped.plot('railway',ax=AOI_gdf.plot(figsize=(10, 10),  alpha=0.5, color='lightgray'),cmap='Paired', linewidth=1, zorder=2)"
   ]
  },
  {
   "cell_type": "markdown",
   "metadata": {},
   "source": [
    "# export"
   ]
  },
  {
   "cell_type": "code",
   "execution_count": null,
   "metadata": {},
   "outputs": [],
   "source": [
    "#export roads  to a shapefile\n",
    "rail_clipped.to_file(AOI_path / 'MAN_TRA_railways_OSM_2024_L.shp')"
   ]
  },
  {
   "cell_type": "code",
   "execution_count": null,
   "metadata": {},
   "outputs": [],
   "source": [
    "#export places to a shapefile\n",
    "stations.to_file(AOI_path / 'MAN_TRA_stations_OSM_2024_P.shp')"
   ]
  }
 ],
 "metadata": {
  "kernelspec": {
   "display_name": "Python 3",
   "language": "python",
   "name": "python3"
  },
  "language_info": {
   "codemirror_mode": {
    "name": "ipython",
    "version": 3
   },
   "file_extension": ".py",
   "mimetype": "text/x-python",
   "name": "python",
   "nbconvert_exporter": "python",
   "pygments_lexer": "ipython3",
   "version": "3.12.3"
  }
 },
 "nbformat": 4,
 "nbformat_minor": 2
}
