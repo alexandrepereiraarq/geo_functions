{
 "cells": [
  {
   "cell_type": "markdown",
   "metadata": {},
   "source": [
    "# Init"
   ]
  },
  {
   "cell_type": "code",
   "execution_count": null,
   "metadata": {},
   "outputs": [],
   "source": [
    "import pandas as pd\n",
    "import numpy as np\n",
    "import geopandas as gpd\n",
    "import matplotlib.pyplot as plt\n",
    "from pathlib import Path"
   ]
  },
  {
   "cell_type": "markdown",
   "metadata": {},
   "source": [
    "# Inputs"
   ]
  },
  {
   "cell_type": "code",
   "execution_count": null,
   "metadata": {},
   "outputs": [],
   "source": [
    "#import the AOI\n",
    "AOI_path = Path('../data/processed/')\n",
    "AOI_file = 'MUM_LIM_BoundingBox_AOI_A.shp'\n",
    "AOI_gdf = gpd.read_file(AOI_path / AOI_file)"
   ]
  },
  {
   "cell_type": "code",
   "execution_count": null,
   "metadata": {},
   "outputs": [],
   "source": [
    "\n",
    "#import file to be clipped\n",
    "to_clip_path = Path('../data/raw/')\n",
    "to_clip_file = 'HydroRIVERS_v10_as.shp'\n",
    "to_clip_gdf = gpd.read_file(to_clip_path / to_clip_file)"
   ]
  },
  {
   "cell_type": "markdown",
   "metadata": {},
   "source": [
    "# Edit"
   ]
  },
  {
   "cell_type": "code",
   "execution_count": null,
   "metadata": {},
   "outputs": [],
   "source": [
    "#read the AOI CRS\n",
    "AOI_crs = AOI_gdf.crs\n",
    "\n",
    "#set the CRS of the file to be clipped to the AOI CRS\n",
    "to_clip_gdf.to_crs(AOI_crs, inplace=True)\n",
    "if to_clip_gdf.crs == AOI_gdf.crs:\n",
    "    print('Same CRS', to_clip_gdf.crs)\n",
    "else:\n",
    "    print('Different CRS')"
   ]
  },
  {
   "cell_type": "code",
   "execution_count": null,
   "metadata": {},
   "outputs": [],
   "source": [
    "#get the AOI boundary coordinates, avoiding any complexities from polygons in the input feature\n",
    "df_boundary_list = AOI_gdf['geometry'].bounds.values.tolist()[0]\n",
    "df_boundary_list"
   ]
  },
  {
   "cell_type": "code",
   "execution_count": null,
   "metadata": {},
   "outputs": [],
   "source": [
    "#clip the file to the AOI\n",
    "clipped_gdf = gpd.clip(to_clip_gdf, mask=df_boundary_list, keep_geom_type=True)\n",
    "clipped_gdf.shape"
   ]
  },
  {
   "cell_type": "code",
   "execution_count": null,
   "metadata": {},
   "outputs": [],
   "source": [
    "clipped_gdf.plot()"
   ]
  },
  {
   "cell_type": "markdown",
   "metadata": {},
   "source": [
    "# Export"
   ]
  },
  {
   "cell_type": "code",
   "execution_count": null,
   "metadata": {},
   "outputs": [],
   "source": [
    "#export the clipped file as geopackage\n",
    "export_path = AOI_path\n",
    "export_file = 'MUM_HYD_HydroRivers_v10_L.gpkg'\n",
    "\n",
    "clipped_gdf.to_file(export_path / export_file, driver='GPKG')"
   ]
  },
  {
   "cell_type": "code",
   "execution_count": null,
   "metadata": {},
   "outputs": [],
   "source": [
    "#export the clipped file as shapefile\n",
    "export_path = AOI_path\n",
    "export_file = 'MUM_HYD_HydroRivers_v10_L.shp'\n",
    "\n",
    "clipped_gdf.to_file(export_path / export_file, driver='ESRI Shapefile')"
   ]
  },
  {
   "cell_type": "code",
   "execution_count": null,
   "metadata": {},
   "outputs": [],
   "source": []
  }
 ],
 "metadata": {
  "kernelspec": {
   "display_name": "Python 3",
   "language": "python",
   "name": "python3"
  },
  "language_info": {
   "codemirror_mode": {
    "name": "ipython",
    "version": 3
   },
   "file_extension": ".py",
   "mimetype": "text/x-python",
   "name": "python",
   "nbconvert_exporter": "python",
   "pygments_lexer": "ipython3",
   "version": "3.11.9"
  }
 },
 "nbformat": 4,
 "nbformat_minor": 2
}
