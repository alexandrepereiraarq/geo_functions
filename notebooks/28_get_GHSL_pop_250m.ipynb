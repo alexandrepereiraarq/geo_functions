{
 "cells": [
  {
   "cell_type": "markdown",
   "metadata": {},
   "source": [
    "### Authorship\n",
    "@author: Alexandre Pereira Santos <br>\n",
    "alexandre.santos(at)lmu.de<br>\n",
    "- many scripts in this notebook com from geemap (see below)\n",
    "\n",
    "### Tasks\n",
    "- get Global Human Settlement Layer population estimates data using the Google Earth Engine functionalities\n",
    "- clip it to an AOI\n",
    "\n",
    "### Prerequisites\n",
    "- earth engine api (ee) https://developers.google.com/earth-engine/apidocs\n",
    "- gee map (gee), https://geemap.org/ by Qiusheng Wu\n",
    "- create an account and a Google Cloud project in Google Developer, see here: https://developers.google.com/earth-engine/guides/auth\n",
    "\n",
    "# init"
   ]
  },
  {
   "cell_type": "code",
   "execution_count": null,
   "metadata": {},
   "outputs": [],
   "source": [
    "import os\n",
    "import ee\n",
    "import geemap\n",
    "from pathlib import Path\n",
    "import geopandas as gpd\n",
    "import matplotlib.pyplot as plt\n",
    "import matplotlib.dates as mdates\n",
    "import logging"
   ]
  },
  {
   "cell_type": "markdown",
   "metadata": {},
   "source": [
    "# functions"
   ]
  },
  {
   "cell_type": "code",
   "execution_count": null,
   "metadata": {},
   "outputs": [],
   "source": [
    "# set up logging\n",
    "logging.basicConfig(level=logging.INFO)\n",
    "\n",
    "# define a function that exports the image to Google Drive\n",
    "def export_image(image, filename, roi): #crs, projection, removed these arguments as they caused a resampling error\n",
    "    try: \n",
    "        task = ee.batch.Export.image.toDrive(\n",
    "            image=image,\n",
    "            description=filename,\n",
    "            folder='gee_exports',\n",
    "            region=roi,\n",
    "            #crs=crs,\n",
    "            #crsTransform=projection['transform'],\n",
    "            maxPixels=1e13,\n",
    "            fileFormat='GeoTIFF',\n",
    "            formatOptions={\n",
    "                'cloudOptimized': False\n",
    "            }\n",
    "        )\n",
    "        task.start()\n",
    "        logging.info(f'Exporting {filename} to Google Drive')\n",
    "        return task\n",
    "    except Exception as e:\n",
    "        logging.error(f'An error has occurred: {e}')\n",
    "        return None\n",
    "\n",
    "def gee_to_tiff(input_layer, out_folder, output_filename, crs, roi):\n",
    "    #projection = input_layer.projection().getInfo()\n",
    "    \n",
    "    try:\n",
    "        if not os.path.exists(out_folder):\n",
    "            os.mkdir(out_folder)\n",
    "        \n",
    "        # Export a GEE layer to raster Gtiff\n",
    "        geemap.ee_export_image_to_drive(\n",
    "            input_layer,\n",
    "            description=output_filename,\n",
    "            folder=out_folder,\n",
    "            maxPixels=1e13, #ressamples to a low resolution\n",
    "            region = roi,\n",
    "            crs = crs, #projection['crs'],\n",
    "            fileFormat = 'GeoTIFF',\n",
    "            scale = 10           \n",
    "        )\n",
    "        #raster = \n",
    "        #return raster\n",
    "    except Exception as e:\n",
    "        print(\"An error has occurred:\", e)\n",
    "    \n",
    "# check image stats before export\n",
    "def check_image_stats(image, roi): \n",
    "    stats = image.reduceRegion(\n",
    "        reducer=ee.Reducer.minMax(),\n",
    "        geometry=roi,\n",
    "        scale=250,\n",
    "        maxPixels=1e9       \n",
    "    )\n",
    "    return stats.getInfo()\n",
    "\n",
    "\n",
    "# extract coordinates from the bounding box\n",
    "def get_coords(gdf):\n",
    "    coords = gdf.envelope #.to_crs(epsg='4326') the CRS is defined at the import\n",
    "    epsg_coords = coords.crs.to_epsg()\n",
    "    transform = [coords.bounds.values[0][0], coords.bounds.values[0][1], coords.bounds.values[0][2], coords.bounds.values[0][3]]\n",
    "    roi = ee.Geometry.BBox(west=transform[0], south=transform[1], east=transform[2], north=transform[3])\n",
    "    rec_roi = ee.Geometry.Rectangle(transform[0],transform[1],transform[2],transform[3])\n",
    "    coi = roi.centroid(maxError=1)\n",
    "    return epsg_coords, roi, rec_roi, coi\n"
   ]
  },
  {
   "cell_type": "code",
   "execution_count": null,
   "metadata": {},
   "outputs": [],
   "source": [
    "# Authenticate and initialize Earth Engine\n",
    "ee.Authenticate()\n",
    "ee.Initialize(project='') # Replace with your GEE project #'ee-cmirb-her'\n",
    "print(ee.__version__)"
   ]
  },
  {
   "cell_type": "code",
   "execution_count": null,
   "metadata": {},
   "outputs": [],
   "source": [
    "# check if the authentication is working\n",
    "print(ee.Image(\"JRC/GHSL/P2023A/GHS_POP/1975\").getInfo()) #.get(\"smod_code\")"
   ]
  },
  {
   "cell_type": "markdown",
   "metadata": {},
   "source": [
    "# imports"
   ]
  },
  {
   "cell_type": "code",
   "execution_count": null,
   "metadata": {},
   "outputs": [],
   "source": [
    "#input a vector and a raster file\n",
    "AOI_path = Path('../data/processed/')\n",
    "\n",
    "AOI_file_JAK = 'JAK_LIM_BoundingBox_AOI_A.shp' #Jakarta\n",
    "AOI_file_MUM = 'MUM_LIM_BoundingBox_AOI_A.shp' #Mumbai\n",
    "AOI_file_MAN = 'MAN_LIM_BoundingBox_AOI_A.shp' #Manila\n",
    "\n",
    "#read the vector files\n",
    "AOI_gdf_JAK = gpd.read_file(AOI_path/AOI_file_JAK).to_crs(epsg=4326)\n",
    "AOI_gdf_MUM = gpd.read_file(AOI_path/AOI_file_MUM).to_crs(epsg=4326)\n",
    "AOI_gdf_MAN = gpd.read_file(AOI_path/AOI_file_MAN).to_crs(epsg=4326)\n",
    "\n",
    "# get the coordinates\n",
    "JAK_aoi_crs, JAK_roi, JAK_rec_roi, JAK_coi = get_coords(AOI_gdf_JAK)\n",
    "MUM_aoi_crs, MUM_roi, MUM_rec_roi, MUM_coi = get_coords(AOI_gdf_MUM)\n",
    "MAN_aoi_crs, MAN_roi, MAN_rec_roi, MAN_coi = get_coords(AOI_gdf_MAN)\n",
    "\n",
    "#print(coords)\n",
    "print('The CRS are:', MUM_aoi_crs, JAK_aoi_crs,  MAN_aoi_crs)"
   ]
  },
  {
   "cell_type": "markdown",
   "metadata": {},
   "source": [
    "# Get"
   ]
  },
  {
   "cell_type": "code",
   "execution_count": null,
   "metadata": {},
   "outputs": [],
   "source": [
    "# defining EE collection\n",
    "# data from JRC GHSL https://human-settlement.emergency.copernicus.eu/ghs_pop2023.php\n",
    "# earth engine collections from the JRC:\n",
    "# Degree of urbanisation 1975-2023 ee.ImageCollection(\"JRC/GHSL/P2023A/GHS_SMOD\")\n",
    "# Global Built Up 1975-2023 ee.ImageCollection(\"JRC/GHSL/P2023A/GHS_BUILT_S\")\n",
    "# code based on https://developers.google.com/earth-engine/datasets/catalog/JRC_GHSL_P2023A_GHS_POP\n",
    "\n",
    "\n",
    "#baseChange = [{featureType: 'all', stylers: [{saturation: -100}, {lightness: 45}]}]\n",
    "#Map.setOptions('baseChange', {'baseChange': baseChange});\n",
    "image1985 = ee.Image('JRC/GHSL/P2023A/GHS_POP/1985')\n",
    "image2000 = ee.Image('JRC/GHSL/P2023A/GHS_POP/2000')\n",
    "image2015 = ee.Image('JRC/GHSL/P2023A/GHS_POP/2015')\n",
    "print('1985 stats:', check_image_stats(image1985, MUM_roi))\n",
    "print('2000 stats:', check_image_stats(image2000, MUM_roi))\n",
    "print('2015 stats:', check_image_stats(image2015, MUM_roi))\n"
   ]
  },
  {
   "cell_type": "code",
   "execution_count": null,
   "metadata": {},
   "outputs": [],
   "source": [
    "Map = geemap.Map()\n",
    "Map.centerObject(MUM_coi, zoom=9)\n",
    "\n",
    "populationCountVis = {\n",
    "  'min': 0.0,\n",
    "  'max': 100.0,\n",
    "  'palette':['000004', '320A5A', '781B6C', 'BB3654', 'EC6824', 'FBB41A', 'FCFFA4']\n",
    "}\n",
    "image1985 = image1985.updateMask(image1985.gt(0))\n",
    "image2000 = image2000.updateMask(image2000.gt(0))\n",
    "image2015 = image2015.updateMask(image2015.gt(0))\n",
    "Map.addLayer(image1985, populationCountVis, 'Population count, 1985')\n",
    "Map.addLayer(image2000, populationCountVis, 'Population count, 1990')\n",
    "Map.addLayer(image2015, populationCountVis, 'Population count, 2015')\n",
    "Map.addLayer(MAN_rec_roi, {}, 'ROI', )\n",
    "Map\n",
    "print('1985 stats:', check_image_stats(image1985, MAN_roi))\n",
    "print('2000 stats:', check_image_stats(image2000, MAN_roi))\n",
    "print('2015 stats:', check_image_stats(image2015, MAN_roi))"
   ]
  },
  {
   "cell_type": "code",
   "execution_count": null,
   "metadata": {},
   "outputs": [],
   "source": [
    "Map1985 = geemap.Map()\n",
    "Map1985.centerObject(MUM_coi, zoom=9)\n",
    "\n",
    "Map1985.addLayer(image1985, populationCountVis, 'Population count, 1985')\n",
    "Map1985"
   ]
  },
  {
   "cell_type": "markdown",
   "metadata": {},
   "source": [
    "# clip"
   ]
  },
  {
   "cell_type": "code",
   "execution_count": null,
   "metadata": {},
   "outputs": [],
   "source": [
    "# create individual images for each of the AOIs\n",
    "\n",
    "# JAK\n",
    "JAK_pop2015 = image2015.clip(JAK_rec_roi)\n",
    "JAK_pop2000 = image2000.clip(JAK_rec_roi)\n",
    "JAK_pop1985 = image1985.clip(JAK_rec_roi)\n",
    "JAK_crs='EPSG:'+str(JAK_aoi_crs)\n",
    "# MUM\n",
    "MUM_pop2015 = image2015.clip(MUM_rec_roi)\n",
    "MUM_pop2000 = image2000.clip(MUM_rec_roi)\n",
    "MUM_pop1985 = image1985.clip(MUM_rec_roi)\n",
    "MUM_crs='EPSG:'+str(MUM_aoi_crs)\n",
    "# MAN\n",
    "MAN_pop2015 = image2015.clip(MAN_rec_roi)\n",
    "MAN_pop2000 = image2000.clip(MAN_rec_roi)\n",
    "MAN_pop1985 = image1985.clip(MAN_rec_roi)\n",
    "MAN_crs='EPSG:'+str(MAN_aoi_crs)\n",
    "\n",
    "# check stats for each image\n",
    "print('JAK_pop2020 stats:', check_image_stats(JAK_pop2015, JAK_rec_roi))\n",
    "print('JAK_pop2000 stats:', check_image_stats(JAK_pop2000, JAK_rec_roi))\n",
    "print('JAK_pop1985 stats:', check_image_stats(JAK_pop1985, JAK_rec_roi))\n",
    "print('MUM_pop2020 stats:', check_image_stats(MUM_pop2015, MUM_rec_roi))\n",
    "print('MUM_pop2000 stats:', check_image_stats(MUM_pop2000, MUM_rec_roi))\n",
    "print('MUM_pop1985 stats:', check_image_stats(MUM_pop1985, MUM_rec_roi))\n",
    "print('MAN_pop2020 stats:', check_image_stats(MAN_pop2015, MAN_rec_roi))\n",
    "print('MAN_pop2000 stats:', check_image_stats(MAN_pop2000, MAN_rec_roi))\n",
    "print('MAN_pop1985 stats:', check_image_stats(MAN_pop1985, MAN_rec_roi))\n"
   ]
  },
  {
   "cell_type": "code",
   "execution_count": null,
   "metadata": {},
   "outputs": [],
   "source": [
    "Map = geemap.Map()\n",
    "Map.centerObject(MAN_coi, zoom=10)\n",
    "\n",
    "\n",
    "Map.addLayer(MAN_pop2020, {'min': 0.5, 'max':1000 , 'palette': ['000004', '320A5A', '781B6C', 'BB3654', 'EC6824', 'FBB41A', 'FCFFA4']}, 'population_count', True)\n",
    "# Map.addLayer(MUM_pop, {'min': 0, 'max': 1, 'palette': ['0000ff', '003cd5']}, 'population_count', True)\n",
    "# Map.addLayer(MAN_pop, {'min': 0, 'max': 1, 'palette': ['0000ff', '003cd5']}, 'population_count', True)\n",
    "# Map.addLayer(roi, {}, 'ROI')\n",
    "Map"
   ]
  },
  {
   "cell_type": "markdown",
   "metadata": {},
   "source": [
    "# export"
   ]
  },
  {
   "cell_type": "code",
   "execution_count": null,
   "metadata": {},
   "outputs": [],
   "source": [
    "# export the images for Jakarta\n",
    "# the function exports the images in the original CRS, as the reprojection caused a resampling error\n",
    "\n",
    "jak_task_2015 = export_image(JAK_pop2015, 'JAK_POP_population_2015_GHSL', JAK_rec_roi) \n",
    "jak_task_2000 = export_image(JAK_pop2000, 'JAK_POP_population_2000_GHSL', JAK_rec_roi) \n",
    "jak_task_1985 = export_image(JAK_pop1985, 'JAK_POP_population_1985_GHSL', JAK_rec_roi) \n",
    "\n",
    "# check task status\n",
    "tasks = [jak_task_2015, jak_task_2000, jak_task_1985]\n",
    "for task in tasks: \n",
    "    if task: \n",
    "        print(f'Task {task.status()[\"id\"]} is {task.status()[\"state\"]}')\n",
    "    else:\n",
    "        print('Task failed')"
   ]
  },
  {
   "cell_type": "code",
   "execution_count": null,
   "metadata": {},
   "outputs": [],
   "source": [
    "# export the images for Mumbai\n",
    "# the function exports the images in the original CRS, as the reprojection caused a resampling error\n",
    "\n",
    "mum_task_2015 = export_image(MUM_pop2015, 'MUM_POP_population_2015_GHSL', MUM_rec_roi) \n",
    "mum_task_2000 = export_image(MUM_pop2000, 'MUM_POP_population_2000_GHSL', MUM_rec_roi) \n",
    "mum_task_1985 = export_image(MUM_pop1985, 'MUM_POP_population_1985_GHSL', MUM_rec_roi)  \n",
    "\n",
    "# check task status\n",
    "tasks = [mum_task_2015, mum_task_2000, mum_task_1985]\n",
    "for task in tasks: \n",
    "    if task: \n",
    "        print(f'Task {task.status()[\"id\"]} is {task.status()[\"state\"]}')\n",
    "    else:\n",
    "        print('Task failed')"
   ]
  },
  {
   "cell_type": "code",
   "execution_count": null,
   "metadata": {},
   "outputs": [],
   "source": [
    "# export the images for Manila\n",
    "# the function exports the images in the original CRS, as the reprojection caused a resampling error\n",
    "\n",
    "man_task_2015 = export_image(MAN_pop2015, 'MAN_POP_population_2015_GHSL', MAN_rec_roi) \n",
    "man_task_2000 = export_image(MAN_pop2000, 'MAN_POP_population_2000_GHSL', MAN_rec_roi) \n",
    "man_task_1985 = export_image(MAN_pop1985, 'MAN_POP_population_1985_GHSL', MAN_rec_roi) \n",
    "\n",
    "# check task status\n",
    "tasks = [man_task_2015, man_task_2000, man_task_1985]\n",
    "for task in tasks: \n",
    "    if task: \n",
    "        print(f'Task {task.status()[\"id\"]} is {task.status()[\"state\"]}')\n",
    "    else:\n",
    "        print('Task failed')"
   ]
  },
  {
   "cell_type": "code",
   "execution_count": null,
   "metadata": {},
   "outputs": [],
   "source": [
    "jak_task_2015 = export_image(JAK_pop2015, 'JAK_POP_population_2015_GHSL', JAK_rec_roi) \n",
    "mum_task_2015 = export_image(MUM_pop2015, 'MUM_POP_population_2015_GHSL', MUM_rec_roi) \n",
    "man_task_2015 = export_image(MAN_pop2015, 'MAN_POP_population_2015_GHSL', MAN_rec_roi) \n",
    "\n",
    "tasks = [jak_task_2015, mum_task_2015, man_task_2015]\n",
    "for task in tasks: \n",
    "    if task: \n",
    "        print(f'Task {task.status()[\"id\"]} is {task.status()[\"state\"]}')\n",
    "    else:\n",
    "        print('Task failed')"
   ]
  },
  {
   "cell_type": "code",
   "execution_count": null,
   "metadata": {},
   "outputs": [],
   "source": []
  }
 ],
 "metadata": {
  "kernelspec": {
   "display_name": "Python 3",
   "language": "python",
   "name": "python3"
  },
  "language_info": {
   "codemirror_mode": {
    "name": "ipython",
    "version": 3
   },
   "file_extension": ".py",
   "mimetype": "text/x-python",
   "name": "python",
   "nbconvert_exporter": "python",
   "pygments_lexer": "ipython3",
   "version": "3.12.3"
  }
 },
 "nbformat": 4,
 "nbformat_minor": 2
}
