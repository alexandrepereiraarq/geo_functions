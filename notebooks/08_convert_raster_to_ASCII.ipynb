{
 "cells": [
  {
   "cell_type": "markdown",
   "metadata": {},
   "source": [
    "### Authorship\n",
    "@author: Alexandre Pereira Santos <br>\n",
    "alexandre.santos(at)lmu.de<br>\n",
    "- many scripts in this notebook com from geemap (see below)\n",
    "\n",
    "### Tasks\n",
    "- open a list of raster files\n",
    "- convert and save all rasters as ASCII\n",
    "\n",
    "### Prerequisites\n",
    "- Rasters should be in the appropriate CRS, as no projection is used\n",
    "- rasterio\n",
    "\n",
    "# init"
   ]
  },
  {
   "cell_type": "code",
   "execution_count": null,
   "metadata": {},
   "outputs": [],
   "source": [
    "from pathlib import Path\n",
    "import rasterio\n",
    "import matplotlib.pyplot as plt\n",
    "\n",
    "from rasterio import features\n",
    "import numpy as np\n",
    "from rasterio.plot import show\n",
    "\n",
    "def get_coords(gdf):\n",
    "    coords = gdf.envelope\n",
    "    epsg_coords = coords #.crs.to_epsg()\n",
    "    transform = [coords.bounds.values[0][0], coords.bounds.values[0][1], coords.bounds.values[0][2], coords.bounds.values[0][3]]\n",
    "    #roi = ee.Geometry.BBox(west=transform[0], south=transform[1], east=transform[2], north=transform[3])\n",
    "    #rec_roi = ee.Geometry.Rectangle(transform[0],transform[1],transform[2],transform[3])\n",
    "    #coi = roi.centroid(maxError=1)\n",
    "    return epsg_coords, transform #roi, rec_roi, coi"
   ]
  },
  {
   "cell_type": "markdown",
   "metadata": {},
   "source": [
    "# imports"
   ]
  },
  {
   "cell_type": "code",
   "execution_count": null,
   "metadata": {},
   "outputs": [],
   "source": [
    "# import a list of raster files\n",
    "# all files should be in the same folder and share the projection\n",
    "\n",
    "raster_folder = Path('../data/processed/')\n",
    "MUM_raster_list = ['']\n",
    "\n",
    "JAK_raster_list = ['']\n",
    "\n",
    "MAN_raster_list = ['']"
   ]
  },
  {
   "cell_type": "code",
   "execution_count": null,
   "metadata": {},
   "outputs": [],
   "source": [
    "# define a function that opens a list of raster files and stores them in a list (should it be a dict?)\n",
    "# the function should also print the crs of the raster files\n",
    "def open_raster_list(raster_list, raster_folder):\n",
    "    open_rasters = {}\n",
    "    array_list = []\n",
    "    crs_list = []\n",
    "    transform_list = []\n",
    "    for raster in raster_list: #[0:3]\n",
    "        raster_path = raster_folder / raster\n",
    "        raster_name = raster.split('.')[0]\n",
    "        array_list.append(raster_name)\n",
    "\n",
    "    for i in range(len(array_list)):\n",
    "        with rasterio.open(raster_path, 'r') as array_list[i]:\n",
    "            array = array_list[i].read(1)\n",
    "            crs = array_list[i].crs\n",
    "            transform = array_list[i].transform\n",
    "            print(array_list[i].crs)\n",
    "            #array_list.append(array)\n",
    "            #crs_list.append(crs)\n",
    "            #transform_list.append(transform)\n",
    "            # update the dict open_rasters with the arrays, crs and transform\n",
    "            open_rasters[array_list[i]['array']] = array\n",
    "            open_rasters[array_list[i]['crs']] = crs\n",
    "            open_rasters[array_list[i]['transform']] = transform\n",
    "    return open_rasters"
   ]
  },
  {
   "cell_type": "code",
   "execution_count": null,
   "metadata": {},
   "outputs": [],
   "source": [
    "# import the rasters for each city at a time\n",
    "input_which_city = input('Which city do you want to import the rasters for? (1 = MUM, 2 = JAK, 3 = MAN:')\n",
    "if input_which_city == '1':\n",
    "    raster_list = MUM_raster_list\n",
    "elif input_which_city == '2':\n",
    "    raster_list = JAK_raster_list\n",
    "elif input_which_city == '3':\n",
    "    raster_list = MAN_raster_list\n",
    "else:\n",
    "    print('Please enter a valid city number')\n",
    "    exit()\n",
    "\n",
    "list_open_raster = open_raster_list(raster_list, raster_folder)\n"
   ]
  },
  {
   "cell_type": "code",
   "execution_count": null,
   "metadata": {},
   "outputs": [],
   "source": [
    "list_open_raster"
   ]
  },
  {
   "cell_type": "markdown",
   "metadata": {},
   "source": [
    "# analysis"
   ]
  },
  {
   "cell_type": "code",
   "execution_count": null,
   "metadata": {},
   "outputs": [],
   "source": [
    "# convert each raster in list_open_raster to a numpy array\n",
    "\n",
    "\n"
   ]
  },
  {
   "cell_type": "markdown",
   "metadata": {},
   "source": [
    "# export"
   ]
  },
  {
   "cell_type": "code",
   "execution_count": null,
   "metadata": {},
   "outputs": [],
   "source": [
    "# define two export functions\n",
    "# export rasters as geotiff\n",
    "def export_raster(raster,url):\n",
    "    with rasterio.open(\n",
    "        url, \"w\",\n",
    "        driver = \"GTiff\",\n",
    "        crs = ref_raster.crs,\n",
    "        transform = ref_raster.transform,\n",
    "        dtype = rasterio.float32,\n",
    "        count = 1,\n",
    "        width = ref_raster.width,\n",
    "        height = ref_raster.height) as dst:\n",
    "        dst.write(raster, indexes = 1)\n",
    "\n",
    "# export raster as ascii files\n",
    "def export_raster_to_ascii(raster_obj, export_path, raster_data_type):\n",
    "    with rasterio.open(export_path, \"w\", driver='AAIGrid',\n",
    "                    height = ref_raster.shape[0], width=ref_raster.shape[1],\n",
    "                    count=1, dtype=list(ref_raster.dtypes)[0],\n",
    "                    crs=ref_raster.crs, transform = ref_raster.transform) as dest:\n",
    "        dest.write(raster_obj.astype(raster_data_type), indexes=1)"
   ]
  },
  {
   "cell_type": "code",
   "execution_count": null,
   "metadata": {},
   "outputs": [],
   "source": [
    "# export the calculated arrays as raster files in geotiff format\n",
    "out_path = Path('../data/processed/')\n",
    "distance_url = out_path/distance_raster_file\n",
    "major_roads_url = out_path/major_road_raster_file\n",
    "full_roads_url = out_path/full_road_raster_file\n",
    "\n",
    "export_raster(distance_to_roads,distance_url)\n",
    "export_raster(major_roads_raster,major_roads_url)\n",
    "export_raster(full_roads_raster,full_roads_url)"
   ]
  },
  {
   "cell_type": "code",
   "execution_count": null,
   "metadata": {},
   "outputs": [],
   "source": [
    "# export the calculated arrays as ASCII files\n",
    "# define the ASCII file names\n",
    "out_path = Path('../data/processed/')\n",
    "\n",
    "distance_ascii_url = out_path/(distance_raster_file.split('.')[0] + '.asc')\n",
    "major_roads_ascii_url = out_path/(major_road_raster_file.split('.')[0] + '.asc')\n",
    "full_roads_ascii_url = out_path/(full_road_raster_file.split('.')[0] + '.asc')\n",
    "\n",
    "# call the ASCII export function\n",
    "export_raster_to_ascii(distance_to_roads, distance_ascii_url,rasterio.float32)\n",
    "export_raster_to_ascii(major_roads_raster, major_roads_ascii_url,rasterio.int16)\n",
    "export_raster_to_ascii(full_roads_raster, full_roads_ascii_url,rasterio.int16)\n"
   ]
  }
 ],
 "metadata": {
  "kernelspec": {
   "display_name": "Python 3",
   "language": "python",
   "name": "python3"
  },
  "language_info": {
   "codemirror_mode": {
    "name": "ipython",
    "version": 3
   },
   "file_extension": ".py",
   "mimetype": "text/x-python",
   "name": "python",
   "nbconvert_exporter": "python",
   "pygments_lexer": "ipython3",
   "version": "3.12.3"
  }
 },
 "nbformat": 4,
 "nbformat_minor": 2
}
