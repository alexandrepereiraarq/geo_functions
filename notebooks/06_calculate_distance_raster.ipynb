{
 "cells": [
  {
   "cell_type": "markdown",
   "metadata": {},
   "source": [
    "### Authorship\n",
    "@author: Alexandre Pereira Santos <br>\n",
    "alexandre.santos(at)lmu.de<br>\n",
    "- many scripts in this notebook com from geemap (see below)\n",
    "\n",
    "### Tasks\n",
    "- classify OSM road vectors into different classes (e.g., major and minor roads).\n",
    "- calculate distance rasters to the vector features.\n",
    "\n",
    "### Prerequisites\n",
    "- earth engine api (ee) https://developers.google.com/earth-engine/apidocs\n",
    "- gee map (gee), https://geemap.org/ by Qiusheng Wu\n",
    "- create an account and a Google Cloud project in Google Developer, see here: https://developers.google.com/earth-engine/guides/auth\n",
    "\n",
    "# init"
   ]
  },
  {
   "cell_type": "code",
   "execution_count": null,
   "metadata": {},
   "outputs": [],
   "source": [
    "from pathlib import Path\n",
    "import geopandas as gpd\n",
    "import rasterio\n",
    "import matplotlib.pyplot as plt\n",
    "\n",
    "from rasterio import features\n",
    "from scipy.ndimage import distance_transform_edt\n",
    "import numpy as np\n",
    "from rasterio.plot import show\n",
    "\n",
    "from matplotlib.colors import Normalize\n",
    "from matplotlib.cm import ScalarMappable\n",
    "\n",
    "def get_coords(gdf):\n",
    "    coords = gdf.envelope\n",
    "    epsg_coords = coords #.crs.to_epsg()\n",
    "    transform = [coords.bounds.values[0][0], coords.bounds.values[0][1], coords.bounds.values[0][2], coords.bounds.values[0][3]]\n",
    "    #roi = ee.Geometry.BBox(west=transform[0], south=transform[1], east=transform[2], north=transform[3])\n",
    "    #rec_roi = ee.Geometry.Rectangle(transform[0],transform[1],transform[2],transform[3])\n",
    "    #coi = roi.centroid(maxError=1)\n",
    "    return epsg_coords, transform #roi, rec_roi, coi"
   ]
  },
  {
   "cell_type": "markdown",
   "metadata": {},
   "source": [
    "# imports"
   ]
  },
  {
   "cell_type": "code",
   "execution_count": null,
   "metadata": {},
   "outputs": [],
   "source": [
    "#input a vector and a raster file\n",
    "AOI_path = Path('../data/processed/')\n",
    "\n",
    "AOI_file_JAK = 'JAK_LIM_BoundingBox_AOI_A.shp' #Jakarta\n",
    "AOI_file_MUM = 'MUM_LIM_BoundingBox_AOI_A.shp' #Mumbai\n",
    "AOI_file_MAN = 'MAN_LIM_BoundingBox_AOI_A.shp' #Manila\n",
    "\n",
    "#read the vector files\n",
    "AOI_gdf_JAK = gpd.read_file(AOI_path/AOI_file_JAK).to_crs(epsg=32748)\n",
    "AOI_gdf_MUM = gpd.read_file(AOI_path/AOI_file_MUM).to_crs(epsg=32643)\n",
    "AOI_gdf_MAN = gpd.read_file(AOI_path/AOI_file_MAN).to_crs(epsg=32651)\n",
    "\n",
    "print(AOI_gdf_JAK.crs, AOI_gdf_MUM.crs, AOI_gdf_MAN.crs)"
   ]
  },
  {
   "cell_type": "code",
   "execution_count": null,
   "metadata": {},
   "outputs": [],
   "source": [
    "# import OSM vector data\n",
    "roads_path = Path('../data/processed/')\n",
    "JAK_roads = gpd.read_file(roads_path/'JAK_TRA_roads_OSM_2024_L.shp')\n",
    "MUM_roads = gpd.read_file(roads_path/'MUM_TRA_roads_OSM_2024_L.shp')\n",
    "MAN_roads = gpd.read_file(roads_path/'MAN_TRA_roads_OSM_2024_L.shp')\n",
    "print(JAK_roads.crs, MUM_roads.crs, MAN_roads.crs)"
   ]
  },
  {
   "cell_type": "code",
   "execution_count": null,
   "metadata": {},
   "outputs": [],
   "source": [
    "JAK_ref_raster = rasterio.open(roads_path/'JAK_DEM_slope_TanDEM_X_30m.tif', 'r')\n",
    "MUM_ref_raster = rasterio.open(roads_path/'MUM_DEM_slope_TanDEM_X_30m.tif', 'r')\n",
    "MAN_ref_raster = rasterio.open(roads_path/'Man_DEM_slope_TanDEM_X_30m.tif', 'r')\n",
    "print(JAK_ref_raster.crs, MUM_ref_raster.crs, MAN_ref_raster.crs)"
   ]
  },
  {
   "cell_type": "markdown",
   "metadata": {},
   "source": [
    "# analysis"
   ]
  },
  {
   "cell_type": "code",
   "execution_count": null,
   "metadata": {},
   "outputs": [],
   "source": [
    "# classify the roads into major and minor\n",
    "JAK_roads['major'] = JAK_roads['highway'].apply(lambda x: 1 if x in ['primary', 'secondary'] else 0) \n",
    "MUM_roads['major'] = MUM_roads['highway'].apply(lambda x: 1 if x in ['primary', 'secondary'] else 0)\n",
    "MAN_roads['major'] = MAN_roads['highway'].apply(lambda x: 1 if x in ['primary', 'secondary'] else 0)"
   ]
  },
  {
   "cell_type": "code",
   "execution_count": null,
   "metadata": {},
   "outputs": [],
   "source": [
    "# Load roads data for one of the cities\n",
    "global distance_raster_file\n",
    "global major_road_raster_file\n",
    "global full_road_raster_file\n",
    "\n",
    "city = input('Choose the city: 1  = Jakarta, 2 = Mumbai, 3 = Manila')\n",
    "if city == '1':\n",
    "    roads_gdf = JAK_roads\n",
    "    distance_raster_file = 'JAK_TRA_distance_to_major_roads.tif'\n",
    "    major_road_raster_file = 'JAK_TRA_major_roads_OSM_2024.tif'\n",
    "    full_road_raster_file = 'JAK_TRA_all_roads_OSM_2024.tif'\n",
    "    ref_raster = JAK_ref_raster\n",
    "elif city == '2':\n",
    "    roads_gdf = MUM_roads\n",
    "    distance_raster_file = 'MUM_TRA_distance_to_major_roads.tif'\n",
    "    major_road_raster_file = 'MUM_TRA_major_roads_OSM_2024.tif'\n",
    "    full_road_raster_file = 'MUM_TRA_all_roads_OSM_2024.tif'\n",
    "    ref_raster = MUM_ref_raster\n",
    "elif city == '3':\n",
    "    roads_gdf = MAN_roads.to_crs(epsg=4326)\n",
    "    distance_raster_file = 'MAN_TRA_distance_to_major_roads.tif'\n",
    "    major_road_raster_file = 'MAN_TRA_major_roads_OSM_2024.tif'\n",
    "    full_road_raster_file = 'MAN_TRA_all_roads_OSM_2024.tif'\n",
    "    ref_raster = MAN_ref_raster\n",
    "\n",
    "\n",
    "# Filter roads where major == 1\n",
    "major_roads_gdf = roads_gdf[roads_gdf['major'] == 1]\n",
    "\n",
    "# Get the geometry of the major roads\n",
    "major_geom = [shapes for shapes in major_roads_gdf.geometry]\n",
    "\n",
    "# Rasterize the major roads, script from https://pygis.io/docs/e_raster_rasterize.html\n",
    "major_roads_raster = features.rasterize(major_geom,\n",
    "                                out_shape = ref_raster.shape,\n",
    "                                fill = 0,\n",
    "                                out = None,\n",
    "                                transform = ref_raster.transform,\n",
    "                                all_touched = True,\n",
    "                                default_value = 1,\n",
    "                                dtype = None)\n",
    "\n",
    "# Get the geometry of the all roads\n",
    "full_geom = [shapes for shapes in roads_gdf.geometry]\n",
    "\n",
    "# Rasterize the all roads, script from https://pygis.io/docs/e_raster_rasterize.html\n",
    "full_roads_raster = features.rasterize(full_geom,\n",
    "                                out_shape = ref_raster.shape,\n",
    "                                fill = 0,\n",
    "                                out = None,\n",
    "                                transform = ref_raster.transform,\n",
    "                                all_touched = True,\n",
    "                                default_value = 1,\n",
    "                                dtype = None)\n",
    "\n",
    "# Invert the raster: roads (value == 1) become 0, non-roads become 1\n",
    "#inverted_roads_raster = np.where(major_roads_raster == 1, 0, 1)\n",
    "\n",
    "# Calculate the distance to the nearest road for each cell\n",
    "#distance_to_roads = distance_transform_edt(inverted_roads_raster)\n",
    "# Assuming the raster's resolution is in meters, the distance_to_roads array now contains the distance in meters to the nearest road for each cell"
   ]
  },
  {
   "cell_type": "code",
   "execution_count": null,
   "metadata": {},
   "outputs": [],
   "source": [
    "full_geom"
   ]
  },
  {
   "cell_type": "code",
   "execution_count": null,
   "metadata": {},
   "outputs": [],
   "source": [
    "major_roads_raster = features.rasterize(major_geom,\n",
    "                                out_shape = ref_raster.shape,\n",
    "                                fill = 0,\n",
    "                                out = None,\n",
    "                                transform = ref_raster.transform,\n",
    "                                all_touched = True,\n",
    "                                default_value = 1,\n",
    "                                dtype = None)\n",
    "inverted_roads_raster = np.where(major_roads_raster == 1, 0, 1)\n",
    "print(inverted_roads_raster.min(), inverted_roads_raster.max())"
   ]
  },
  {
   "cell_type": "code",
   "execution_count": null,
   "metadata": {},
   "outputs": [],
   "source": [
    "ref_raster.transform"
   ]
  },
  {
   "cell_type": "code",
   "execution_count": null,
   "metadata": {},
   "outputs": [],
   "source": [
    "# Plot the three rasters\n",
    "fig, ax = plt.subplots(nrows=1, ncols = 2, figsize = (10, 30))\n",
    "show(major_roads_raster, ax = ax[0])\n",
    "show(full_roads_raster, ax = ax[1])\n",
    "#show(distance_to_roads, ax = ax[2],cmap='viridis')\n",
    "\n",
    "plt.gca() "
   ]
  },
  {
   "cell_type": "markdown",
   "metadata": {},
   "source": [
    "# export"
   ]
  },
  {
   "cell_type": "code",
   "execution_count": null,
   "metadata": {},
   "outputs": [],
   "source": [
    "# define two export functions\n",
    "# export rasters as geotiff\n",
    "def export_raster(raster,url):\n",
    "    with rasterio.open(\n",
    "        url, \"w\",\n",
    "        driver = \"GTiff\",\n",
    "        crs = ref_raster.crs,\n",
    "        transform = ref_raster.transform,\n",
    "        dtype = rasterio.float32,\n",
    "        count = 1,\n",
    "        width = ref_raster.width,\n",
    "        height = ref_raster.height) as dst:\n",
    "        dst.write(raster, indexes = 1)\n",
    "\n",
    "# export raster as ascii files\n",
    "def export_raster_to_ascii(raster_obj, export_path, raster_data_type):\n",
    "    with rasterio.open(export_path, \"w\", driver='AAIGrid',\n",
    "                    height = ref_raster.shape[0], width=ref_raster.shape[1],\n",
    "                    count=1, dtype=list(ref_raster.dtypes)[0],\n",
    "                    crs=ref_raster.crs, transform = ref_raster.transform) as dest:\n",
    "        dest.write(raster_obj.astype(raster_data_type), indexes=1)"
   ]
  },
  {
   "cell_type": "code",
   "execution_count": null,
   "metadata": {},
   "outputs": [],
   "source": [
    "# export the calculated arrays as raster files in geotiff format\n",
    "out_path = Path(r'D:\\\\Dropbox\\\\x\\\\PostDoc\\\\23 10 LMU\\\\13 exp_cases\\\\24 01 Urban SSP MAN MUM JAK\\\\GIS_temp\\\\')\n",
    "distance_url = out_path/distance_raster_file\n",
    "major_roads_url = out_path/major_road_raster_file\n",
    "full_roads_url = out_path/full_road_raster_file\n",
    "\n",
    "export_raster(distance_to_roads,distance_url)\n",
    "export_raster(major_roads_raster,major_roads_url)\n",
    "export_raster(full_roads_raster,full_roads_url)"
   ]
  },
  {
   "cell_type": "code",
   "execution_count": null,
   "metadata": {},
   "outputs": [],
   "source": [
    "# export the calculated arrays as ASCII files\n",
    "# define the ASCII file names\n",
    "out_path = Path(r'D:\\\\Dropbox\\\\x\\\\PostDoc\\\\23 10 LMU\\\\13 exp_cases\\\\24 01 Urban SSP MAN MUM JAK\\\\CityCell\\\\')\n",
    "\n",
    "distance_ascii_url = out_path/(distance_raster_file.split('.')[0] + '.asc')\n",
    "major_roads_ascii_url = out_path/(major_road_raster_file.split('.')[0] + '.asc')\n",
    "full_roads_ascii_url = out_path/(full_road_raster_file.split('.')[0] + '.asc')\n",
    "\n",
    "# call the ASCII export function\n",
    "export_raster_to_ascii(distance_to_roads, distance_ascii_url,rasterio.float32)\n",
    "export_raster_to_ascii(major_roads_raster, major_roads_ascii_url,rasterio.int16)\n",
    "export_raster_to_ascii(full_roads_raster, full_roads_ascii_url,rasterio.int16)\n"
   ]
  }
 ],
 "metadata": {
  "kernelspec": {
   "display_name": "Python 3",
   "language": "python",
   "name": "python3"
  },
  "language_info": {
   "codemirror_mode": {
    "name": "ipython",
    "version": 3
   },
   "file_extension": ".py",
   "mimetype": "text/x-python",
   "name": "python",
   "nbconvert_exporter": "python",
   "pygments_lexer": "ipython3",
   "version": "3.12.3"
  }
 },
 "nbformat": 4,
 "nbformat_minor": 2
}
