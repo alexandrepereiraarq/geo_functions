{
 "cells": [
  {
   "cell_type": "markdown",
   "metadata": {},
   "source": [
    "# init"
   ]
  },
  {
   "cell_type": "code",
   "execution_count": null,
   "metadata": {},
   "outputs": [],
   "source": [
    "import geopandas as gpd\n",
    "import rasterio\n",
    "from rasterio.mask import mask\n",
    "from rasterio.crs import CRS\n",
    "from rasterio.plot import show\n",
    "#from shapely.geometry import mapping\n",
    "import matplotlib.pyplot as plt\n",
    "from pathlib import Path\n",
    "import json"
   ]
  },
  {
   "cell_type": "code",
   "execution_count": null,
   "metadata": {},
   "outputs": [],
   "source": [
    "def getFeatures(gdf):\n",
    "    #Function to parse features from GeoDataFrame in such a manner that rasterio wants them\n",
    "    return [json.loads(gdf.to_json())['features'][0]['geometry']]"
   ]
  },
  {
   "cell_type": "markdown",
   "metadata": {},
   "source": [
    "# input"
   ]
  },
  {
   "cell_type": "code",
   "execution_count": null,
   "metadata": {},
   "outputs": [],
   "source": [
    "#input a vector and a raster file\n",
    "AOI_path = Path('../data/processed/')\n",
    "#AOI_file = 'MAN_LIM_BoundingBox_AOI_A.shp'\n",
    "#AOI_file = 'MUM_LIM_BoundingBox_AOI_A.shp'\n",
    "AOI_file = 'JAK_LIM_BoundingBox_AOI_A.shp'\n",
    "\n",
    "AOI_gdf = gpd.read_file(AOI_path/AOI_file)\n",
    "AOI_gdf.to_crs(epsg=4326, inplace=True)\n",
    "\n",
    "#raster_file = 'MAN_ENV_LULC1.tif'\n",
    "raster_file = Path('../data/processed/')\n",
    "in_raster = rasterio.open(raster_file, 'r+') #note that the raster and AOI must be in the same CRS\n",
    "print('AOI:', AOI_gdf.crs.to_epsg(),'Raster:', in_raster.crs)"
   ]
  },
  {
   "cell_type": "code",
   "execution_count": null,
   "metadata": {},
   "outputs": [],
   "source": [
    "#get the coordinates of the AOI\n",
    "AOI_geom = AOI_gdf.geometry\n",
    "coords = getFeatures(AOI_gdf)\n",
    "clipped_array, clipped_transform = mask(dataset=in_raster, shapes=AOI_geom, crop=True)"
   ]
  },
  {
   "cell_type": "code",
   "execution_count": null,
   "metadata": {},
   "outputs": [],
   "source": [
    "#setting up the output file\n",
    "out_path = Path('../data/processed/')\n",
    "out_file = 'JAK_ECO_GDP_1km_2019_Chen_et_al2021.tif'\n",
    "out_url = out_path/out_file\n",
    "\n",
    "AOI_gdf = AOI_gdf.to_crs(in_raster.crs)\n",
    "out_meta = in_raster.meta.copy()\n",
    "out_meta.update({\"driver\": \"GTiff\",\n",
    "                 \"height\": clipped_array.shape[1],\n",
    "                 \"width\": clipped_array.shape[2],\n",
    "                 \"transform\": clipped_transform})\n",
    "\n",
    "with rasterio.open(out_url, \"w\", **out_meta) as dest:\n",
    "    dest.write(clipped_array)"
   ]
  },
  {
   "cell_type": "code",
   "execution_count": null,
   "metadata": {},
   "outputs": [],
   "source": [
    "#plotting to be sure it worked\n",
    "clipped = rasterio.open(out_url)\n",
    "fig, ax = plt.subplots(figsize=(8, 6))\n",
    "p1 = AOI_gdf.plot(color=None,facecolor='none',edgecolor='red',linewidth = 2,ax=ax)\n",
    "show(clipped, ax=ax)\n",
    "ax.axis('off')"
   ]
  },
  {
   "cell_type": "code",
   "execution_count": null,
   "metadata": {},
   "outputs": [],
   "source": []
  }
 ],
 "metadata": {
  "kernelspec": {
   "display_name": "Python 3",
   "language": "python",
   "name": "python3"
  },
  "language_info": {
   "codemirror_mode": {
    "name": "ipython",
    "version": 3
   },
   "file_extension": ".py",
   "mimetype": "text/x-python",
   "name": "python",
   "nbconvert_exporter": "python",
   "pygments_lexer": "ipython3",
   "version": "3.12.3"
  }
 },
 "nbformat": 4,
 "nbformat_minor": 2
}
