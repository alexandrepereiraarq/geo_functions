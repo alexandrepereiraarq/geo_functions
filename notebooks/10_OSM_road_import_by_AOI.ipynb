{
 "cells": [
  {
   "cell_type": "markdown",
   "metadata": {},
   "source": [
    "# init\n",
    "@author: Alexandre Pereira Santos <br>\n",
    "alexandre.santos(at)lmu.de\n",
    "\n",
    "## Tasks\n",
    "- get OpenStreetMap data using the osmnx functionalities in the Overpass API\n",
    "- clip it to an AOI\n",
    "\n",
    "## Prerequisites\n",
    "- have osmnx and geopandas installed\n",
    "- have an AOI saved as a vector (shapefile or geopackage)"
   ]
  },
  {
   "cell_type": "code",
   "execution_count": null,
   "metadata": {},
   "outputs": [],
   "source": [
    "import osmnx as ox\n",
    "import geopandas as gpd\n",
    "from pathlib import Path"
   ]
  },
  {
   "cell_type": "markdown",
   "metadata": {},
   "source": [
    "# imports"
   ]
  },
  {
   "cell_type": "code",
   "execution_count": null,
   "metadata": {},
   "outputs": [],
   "source": [
    "#import the AOI\n",
    "AOI_path = Path('../data/processed/')\n",
    "AOI_file = 'MAN_LIM_BoundingBox_AOI_A.shp'\n",
    "AOI_gdf = gpd.read_file(AOI_path / AOI_file)"
   ]
  },
  {
   "cell_type": "code",
   "execution_count": null,
   "metadata": {},
   "outputs": [],
   "source": [
    "#bounds provides minx, miny, maxx, maxy\n",
    "aoi_coords = AOI_gdf.to_crs(epsg='4326').envelope\n",
    "bbox_df = gpd.GeoDataFrame(geometry=aoi_coords)\n",
    "print('N',aoi_coords.bounds.values[0][3],'S',aoi_coords.bounds.values[0][1],'W',aoi_coords.bounds.values[0][0],'E',aoi_coords.bounds.values[0][2])"
   ]
  },
  {
   "cell_type": "code",
   "execution_count": null,
   "metadata": {},
   "outputs": [],
   "source": [
    "#get road features from OSM\n",
    "# List key-value pairs for tags\n",
    "# Wiki url https://wiki.openstreetmap.org/wiki/Key:highway\n",
    "tags = {'highway': ['primary', 'secondary', 'tertiary', 'residential', 'unclassified', 'trunk', 'motorway']}\n",
    "col_list = ['osmid','name','source','geometry', 'highway','surface','lanes','incline'] #OSM has hundreds of cols, we just want a few. For info, check roads.columns\n",
    "\n",
    "roads = ox.features_from_bbox(north=aoi_coords.bounds.values[0][3],\n",
    "                              south=aoi_coords.bounds.values[0][1],\n",
    "                              west=aoi_coords.bounds.values[0][0],\n",
    "                              east=aoi_coords.bounds.values[0][2],\n",
    "                              tags=tags)\n",
    "roads.reset_index(inplace=True)\n",
    "\n",
    "#filtering out the wrong geometries (POLYGON or POINT) and element types (NODE)\n",
    "roads = roads.loc[(roads.geometry.type=='LineString')&(roads.element_type == 'way'), col_list]\n",
    "#convert the CRS of roads to the same as AOI\n",
    "roads.to_crs(AOI_gdf.crs,inplace=True)\n",
    "\n",
    "#plot them\n",
    "roads.plot('highway',ax=AOI_gdf.plot(figsize=(10, 10),  alpha=0.5, color='lightgray'),cmap='Paired', linewidth=1, zorder=2)"
   ]
  },
  {
   "cell_type": "code",
   "execution_count": null,
   "metadata": {},
   "outputs": [],
   "source": [
    "# get points with place names from OSM\n",
    "# List key-value pairs for tags\n",
    "tags = {'place': ['city', 'town', 'village', 'hamlet','neighbourhood']} # see https://wiki.openstreetmap.org/wiki/Key:place for more info\n",
    "col_list = ['osmid','name','geometry', 'place','population'] #OSM has hundreds of cols, we just want a few. For info, check roads.columns'source',\n",
    "\n",
    "places = ox.features_from_bbox(north=aoi_coords.bounds.values[0][3],\n",
    "                              south=aoi_coords.bounds.values[0][1],\n",
    "                              west=aoi_coords.bounds.values[0][0],\n",
    "                              east=aoi_coords.bounds.values[0][2],\n",
    "                              tags=tags)\n",
    "places.reset_index(inplace=True)\n",
    "\n",
    "#filtering out the wrong geometries (POLYGON or POINT) and element types (NODE)\n",
    "places = places.loc[(places.geometry.type=='Point'), col_list] #&(places.element_type == 'way')\n",
    "#convert the CRS of roads to the same as AOI\n",
    "places.to_crs(AOI_gdf.crs,inplace=True)\n",
    "\n",
    "#plot them\n",
    "places.plot('place',ax=AOI_gdf.plot(figsize=(10, 10),  alpha=0.5, color='lightgray'),cmap='Paired',  zorder=2) #linewidth=1,"
   ]
  },
  {
   "cell_type": "code",
   "execution_count": null,
   "metadata": {},
   "outputs": [],
   "source": [
    "#clip using geopandas, the mask is the AOI we imported above\n",
    "clipped_gdf = gpd.clip(roads, mask=AOI_gdf, keep_geom_type=True)\n",
    "clipped_gdf.plot('highway',ax=AOI_gdf.plot(figsize=(10, 10),  alpha=0.5, color='lightgray'),cmap='Paired', linewidth=1, zorder=2)"
   ]
  },
  {
   "cell_type": "markdown",
   "metadata": {},
   "source": [
    "# export"
   ]
  },
  {
   "cell_type": "code",
   "execution_count": null,
   "metadata": {},
   "outputs": [],
   "source": [
    "#export roads  to a shapefile\n",
    "clipped_gdf.to_file(AOI_path / 'MAN_TRA_roads_OSM_2024_L.shp')"
   ]
  },
  {
   "cell_type": "code",
   "execution_count": null,
   "metadata": {},
   "outputs": [],
   "source": [
    "#export places to a shapefile\n",
    "places.to_file(AOI_path / 'MAN_LOC_places_OSM_2024_P.shp')"
   ]
  }
 ],
 "metadata": {
  "kernelspec": {
   "display_name": "Python 3",
   "language": "python",
   "name": "python3"
  },
  "language_info": {
   "codemirror_mode": {
    "name": "ipython",
    "version": 3
   },
   "file_extension": ".py",
   "mimetype": "text/x-python",
   "name": "python",
   "nbconvert_exporter": "python",
   "pygments_lexer": "ipython3",
   "version": "3.11.9"
  }
 },
 "nbformat": 4,
 "nbformat_minor": 2
}
