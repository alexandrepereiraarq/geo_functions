{
 "cells": [
  {
   "cell_type": "markdown",
   "metadata": {},
   "source": [
    "### Authorship\n",
    "@author: Alexandre Pereira Santos <br>\n",
    "alexandre.santos(at)lmu.de<br>\n",
    "- many scripts in this notebook com from geemap (see below)\n",
    "\n",
    "### Tasks\n",
    "- get Global Human Settlement Layer population estimates data using the Google Earth Engine functionalities\n",
    "- clip it to an AOI\n",
    "\n",
    "### Prerequisites\n",
    "- earth engine api (ee) https://developers.google.com/earth-engine/apidocs\n",
    "- gee map (gee), https://geemap.org/ by Qiusheng Wu\n",
    "- create an account and a Google Cloud project in Google Developer, see here: https://developers.google.com/earth-engine/guides/auth\n",
    "\n",
    "# init"
   ]
  },
  {
   "cell_type": "code",
   "execution_count": 1,
   "metadata": {},
   "outputs": [],
   "source": [
    "import os\n",
    "import ee\n",
    "import geemap\n",
    "from pathlib import Path\n",
    "import geopandas as gpd\n",
    "import matplotlib.pyplot as plt\n",
    "import matplotlib.dates as mdates\n",
    "import logging"
   ]
  },
  {
   "cell_type": "markdown",
   "metadata": {},
   "source": [
    "# functions"
   ]
  },
  {
   "cell_type": "code",
   "execution_count": 2,
   "metadata": {},
   "outputs": [
    {
     "data": {
      "text/html": [
       "\n",
       "            <style>\n",
       "                .geemap-dark {\n",
       "                    --jp-widgets-color: white;\n",
       "                    --jp-widgets-label-color: white;\n",
       "                    --jp-ui-font-color1: white;\n",
       "                    --jp-layout-color2: #454545;\n",
       "                    background-color: #383838;\n",
       "                }\n",
       "\n",
       "                .geemap-dark .jupyter-button {\n",
       "                    --jp-layout-color3: #383838;\n",
       "                }\n",
       "\n",
       "                .geemap-colab {\n",
       "                    background-color: var(--colab-primary-surface-color, white);\n",
       "                }\n",
       "\n",
       "                .geemap-colab .jupyter-button {\n",
       "                    --jp-layout-color3: var(--colab-primary-surface-color, white);\n",
       "                }\n",
       "            </style>\n",
       "            "
      ],
      "text/plain": [
       "<IPython.core.display.HTML object>"
      ]
     },
     "metadata": {},
     "output_type": "display_data"
    }
   ],
   "source": [
    "# set up logging\n",
    "logging.basicConfig(level=logging.INFO)\n",
    "\n",
    "# define a function that exports the image to Google Drive\n",
    "def export_image(image, filename, roi): #crs, projection, removed these arguments as they caused a resampling error\n",
    "    try: \n",
    "        task = ee.batch.Export.image.toDrive(\n",
    "            image=image,\n",
    "            description=filename,\n",
    "            folder='gee_exports',\n",
    "            region=roi,\n",
    "            #crs=crs,\n",
    "            #crsTransform=projection['transform'],\n",
    "            maxPixels=1e13,\n",
    "            fileFormat='GeoTIFF',\n",
    "            formatOptions={\n",
    "                'cloudOptimized': False\n",
    "            }\n",
    "        )\n",
    "        task.start()\n",
    "        logging.info(f'Exporting {filename} to Google Drive')\n",
    "        return task\n",
    "    except Exception as e:\n",
    "        logging.error(f'An error has occurred: {e}')\n",
    "        return None\n",
    "\n",
    "def gee_to_tiff(input_layer, out_folder, output_filename, crs, roi):\n",
    "    #projection = input_layer.projection().getInfo()\n",
    "    \n",
    "    try:\n",
    "        if not os.path.exists(out_folder):\n",
    "            os.mkdir(out_folder)\n",
    "        \n",
    "        # Export a GEE layer to raster Gtiff\n",
    "        geemap.ee_export_image_to_drive(\n",
    "            input_layer,\n",
    "            description=output_filename,\n",
    "            folder=out_folder,\n",
    "            maxPixels=1e13, #ressamples to a low resolution\n",
    "            region = roi,\n",
    "            crs = crs, #projection['crs'],\n",
    "            fileFormat = 'GeoTIFF',\n",
    "            scale = 10           \n",
    "        )\n",
    "        #raster = \n",
    "        #return raster\n",
    "    except Exception as e:\n",
    "        print(\"An error has occurred:\", e)\n",
    "    \n",
    "# check image stats before export\n",
    "def check_image_stats(image, roi): \n",
    "    stats = image.reduceRegion(\n",
    "        reducer=ee.Reducer.minMax(),\n",
    "        geometry=roi,\n",
    "        scale=250,\n",
    "        maxPixels=1e9       \n",
    "    )\n",
    "    return stats.getInfo()\n",
    "\n",
    "\n",
    "# extract coordinates from the bounding box\n",
    "def get_coords(gdf):\n",
    "    coords = gdf.envelope #.to_crs(epsg='4326') the CRS is defined at the import\n",
    "    epsg_coords = coords.crs.to_epsg()\n",
    "    transform = [coords.bounds.values[0][0], coords.bounds.values[0][1], coords.bounds.values[0][2], coords.bounds.values[0][3]]\n",
    "    roi = ee.Geometry.BBox(west=transform[0], south=transform[1], east=transform[2], north=transform[3])\n",
    "    rec_roi = ee.Geometry.Rectangle(transform[0],transform[1],transform[2],transform[3])\n",
    "    coi = roi.centroid(maxError=1)\n",
    "    return epsg_coords, roi, rec_roi, coi\n"
   ]
  },
  {
   "cell_type": "code",
   "execution_count": 3,
   "metadata": {},
   "outputs": [
    {
     "data": {
      "text/html": [
       "\n",
       "            <style>\n",
       "                .geemap-dark {\n",
       "                    --jp-widgets-color: white;\n",
       "                    --jp-widgets-label-color: white;\n",
       "                    --jp-ui-font-color1: white;\n",
       "                    --jp-layout-color2: #454545;\n",
       "                    background-color: #383838;\n",
       "                }\n",
       "\n",
       "                .geemap-dark .jupyter-button {\n",
       "                    --jp-layout-color3: #383838;\n",
       "                }\n",
       "\n",
       "                .geemap-colab {\n",
       "                    background-color: var(--colab-primary-surface-color, white);\n",
       "                }\n",
       "\n",
       "                .geemap-colab .jupyter-button {\n",
       "                    --jp-layout-color3: var(--colab-primary-surface-color, white);\n",
       "                }\n",
       "            </style>\n",
       "            "
      ],
      "text/plain": [
       "<IPython.core.display.HTML object>"
      ]
     },
     "metadata": {},
     "output_type": "display_data"
    },
    {
     "name": "stdout",
     "output_type": "stream",
     "text": [
      "0.1.406\n"
     ]
    }
   ],
   "source": [
    "# Authenticate and initialize Earth Engine\n",
    "ee.Authenticate()\n",
    "ee.Initialize(project='ee-alexandresantosgeographie') # Replace with your GEE project #'ee-cmirb-her'\n",
    "print(ee.__version__)"
   ]
  },
  {
   "cell_type": "code",
   "execution_count": 4,
   "metadata": {},
   "outputs": [
    {
     "data": {
      "text/html": [
       "\n",
       "            <style>\n",
       "                .geemap-dark {\n",
       "                    --jp-widgets-color: white;\n",
       "                    --jp-widgets-label-color: white;\n",
       "                    --jp-ui-font-color1: white;\n",
       "                    --jp-layout-color2: #454545;\n",
       "                    background-color: #383838;\n",
       "                }\n",
       "\n",
       "                .geemap-dark .jupyter-button {\n",
       "                    --jp-layout-color3: #383838;\n",
       "                }\n",
       "\n",
       "                .geemap-colab {\n",
       "                    background-color: var(--colab-primary-surface-color, white);\n",
       "                }\n",
       "\n",
       "                .geemap-colab .jupyter-button {\n",
       "                    --jp-layout-color3: var(--colab-primary-surface-color, white);\n",
       "                }\n",
       "            </style>\n",
       "            "
      ],
      "text/plain": [
       "<IPython.core.display.HTML object>"
      ]
     },
     "metadata": {},
     "output_type": "display_data"
    },
    {
     "name": "stdout",
     "output_type": "stream",
     "text": [
      "{'type': 'Image', 'bands': [{'id': 'population_count', 'data_type': {'type': 'PixelType', 'precision': 'double'}, 'dimensions': [360820, 180000], 'crs': 'PROJCS[\"World_Mollweide\", \\n  GEOGCS[\"WGS 84\", \\n    DATUM[\"WGS_1984\", \\n      SPHEROID[\"WGS 84\", 6378137.0, 298.257223563, AUTHORITY[\"EPSG\",\"7030\"]], \\n      AUTHORITY[\"EPSG\",\"6326\"]], \\n    PRIMEM[\"Greenwich\", 0.0], \\n    UNIT[\"degree\", 0.017453292519943295], \\n    AXIS[\"Longitude\", EAST], \\n    AXIS[\"Latitude\", NORTH]], \\n  PROJECTION[\"Mollweide\"], \\n  PARAMETER[\"semi_minor\", 6378137.0], \\n  PARAMETER[\"false_easting\", 0.0], \\n  PARAMETER[\"false_northing\", 0.0], \\n  PARAMETER[\"central_meridian\", 0.0], \\n  UNIT[\"m\", 1.0], \\n  AXIS[\"Easting\", EAST], \\n  AXIS[\"Northing\", NORTH]]', 'crs_transform': [100, 0, -18041000, 0, -100, 9000000]}], 'version': 1690185742435464, 'id': 'JRC/GHSL/P2023A/GHS_POP/1975', 'properties': {'system:time_start': 157766400000, 'system:footprint': {'type': 'LinearRing', 'coordinates': [[-180, -90], [180, -90], [180, 90], [-180, 90], [-180, -90]]}, 'system:time_end': 315532800000, 'system:asset_size': 3207088560, 'system:index': '1975'}}\n"
     ]
    }
   ],
   "source": [
    "# check if the authentication is working\n",
    "print(ee.Image(\"JRC/GHSL/P2023A/GHS_POP/1975\").getInfo()) #.get(\"smod_code\")"
   ]
  },
  {
   "cell_type": "markdown",
   "metadata": {},
   "source": [
    "# imports"
   ]
  },
  {
   "cell_type": "code",
   "execution_count": 5,
   "metadata": {},
   "outputs": [
    {
     "data": {
      "text/html": [
       "\n",
       "            <style>\n",
       "                .geemap-dark {\n",
       "                    --jp-widgets-color: white;\n",
       "                    --jp-widgets-label-color: white;\n",
       "                    --jp-ui-font-color1: white;\n",
       "                    --jp-layout-color2: #454545;\n",
       "                    background-color: #383838;\n",
       "                }\n",
       "\n",
       "                .geemap-dark .jupyter-button {\n",
       "                    --jp-layout-color3: #383838;\n",
       "                }\n",
       "\n",
       "                .geemap-colab {\n",
       "                    background-color: var(--colab-primary-surface-color, white);\n",
       "                }\n",
       "\n",
       "                .geemap-colab .jupyter-button {\n",
       "                    --jp-layout-color3: var(--colab-primary-surface-color, white);\n",
       "                }\n",
       "            </style>\n",
       "            "
      ],
      "text/plain": [
       "<IPython.core.display.HTML object>"
      ]
     },
     "metadata": {},
     "output_type": "display_data"
    },
    {
     "name": "stdout",
     "output_type": "stream",
     "text": [
      "The CRS are: 4326 4326 4326\n"
     ]
    }
   ],
   "source": [
    "#input a vector and a raster file\n",
    "AOI_path = Path('../data/processed/')\n",
    "\n",
    "AOI_file_JAK = 'JAK_LIM_BoundingBox_AOI_A.shp' #Jakarta\n",
    "AOI_file_MUM = 'MUM_LIM_BoundingBox_AOI_A.shp' #Mumbai\n",
    "AOI_file_MAN = 'MAN_LIM_BoundingBox_AOI_A.shp' #Manila\n",
    "\n",
    "#read the vector files\n",
    "AOI_gdf_JAK = gpd.read_file(AOI_path/AOI_file_JAK).to_crs(epsg=4326)\n",
    "AOI_gdf_MUM = gpd.read_file(AOI_path/AOI_file_MUM).to_crs(epsg=4326)\n",
    "AOI_gdf_MAN = gpd.read_file(AOI_path/AOI_file_MAN).to_crs(epsg=4326)\n",
    "\n",
    "# get the coordinates\n",
    "JAK_aoi_crs, JAK_roi, JAK_rec_roi, JAK_coi = get_coords(AOI_gdf_JAK)\n",
    "MUM_aoi_crs, MUM_roi, MUM_rec_roi, MUM_coi = get_coords(AOI_gdf_MUM)\n",
    "MAN_aoi_crs, MAN_roi, MAN_rec_roi, MAN_coi = get_coords(AOI_gdf_MAN)\n",
    "\n",
    "#print(coords)\n",
    "print('The CRS are:', MUM_aoi_crs, JAK_aoi_crs,  MAN_aoi_crs)"
   ]
  },
  {
   "cell_type": "markdown",
   "metadata": {},
   "source": [
    "# Get"
   ]
  },
  {
   "cell_type": "code",
   "execution_count": 7,
   "metadata": {},
   "outputs": [
    {
     "data": {
      "text/html": [
       "\n",
       "            <style>\n",
       "                .geemap-dark {\n",
       "                    --jp-widgets-color: white;\n",
       "                    --jp-widgets-label-color: white;\n",
       "                    --jp-ui-font-color1: white;\n",
       "                    --jp-layout-color2: #454545;\n",
       "                    background-color: #383838;\n",
       "                }\n",
       "\n",
       "                .geemap-dark .jupyter-button {\n",
       "                    --jp-layout-color3: #383838;\n",
       "                }\n",
       "\n",
       "                .geemap-colab {\n",
       "                    background-color: var(--colab-primary-surface-color, white);\n",
       "                }\n",
       "\n",
       "                .geemap-colab .jupyter-button {\n",
       "                    --jp-layout-color3: var(--colab-primary-surface-color, white);\n",
       "                }\n",
       "            </style>\n",
       "            "
      ],
      "text/plain": [
       "<IPython.core.display.HTML object>"
      ]
     },
     "metadata": {},
     "output_type": "display_data"
    },
    {
     "name": "stdout",
     "output_type": "stream",
     "text": [
      "1985 stats: {'population_count_max': 2531.6363830566406, 'population_count_min': -200}\n",
      "2000 stats: {'population_count_max': 2968.5401611328125, 'population_count_min': -200}\n",
      "2015 stats: {'population_count_max': 2642.544921875, 'population_count_min': -200}\n"
     ]
    }
   ],
   "source": [
    "# defining EE collection\n",
    "# data from JRC GHSL https://human-settlement.emergency.copernicus.eu/ghs_pop2023.php\n",
    "# earth engine collections from the JRC:\n",
    "# Degree of urbanisation 1975-2023 ee.ImageCollection(\"JRC/GHSL/P2023A/GHS_SMOD\")\n",
    "# Global Built Up 1975-2023 ee.ImageCollection(\"JRC/GHSL/P2023A/GHS_BUILT_S\")\n",
    "# code based on https://developers.google.com/earth-engine/datasets/catalog/JRC_GHSL_P2023A_GHS_POP\n",
    "\n",
    "\n",
    "#baseChange = [{featureType: 'all', stylers: [{saturation: -100}, {lightness: 45}]}]\n",
    "#Map.setOptions('baseChange', {'baseChange': baseChange});\n",
    "image1985 = ee.Image('JRC/GHSL/P2023A/GHS_POP/1985')\n",
    "image2000 = ee.Image('JRC/GHSL/P2023A/GHS_POP/2000')\n",
    "image2015 = ee.Image('JRC/GHSL/P2023A/GHS_POP/2015')\n",
    "print('1985 stats:', check_image_stats(image1985, MUM_roi))\n",
    "print('2000 stats:', check_image_stats(image2000, MUM_roi))\n",
    "print('2015 stats:', check_image_stats(image2015, MUM_roi))\n"
   ]
  },
  {
   "cell_type": "code",
   "execution_count": 10,
   "metadata": {},
   "outputs": [
    {
     "data": {
      "text/html": [
       "\n",
       "            <style>\n",
       "                .geemap-dark {\n",
       "                    --jp-widgets-color: white;\n",
       "                    --jp-widgets-label-color: white;\n",
       "                    --jp-ui-font-color1: white;\n",
       "                    --jp-layout-color2: #454545;\n",
       "                    background-color: #383838;\n",
       "                }\n",
       "\n",
       "                .geemap-dark .jupyter-button {\n",
       "                    --jp-layout-color3: #383838;\n",
       "                }\n",
       "\n",
       "                .geemap-colab {\n",
       "                    background-color: var(--colab-primary-surface-color, white);\n",
       "                }\n",
       "\n",
       "                .geemap-colab .jupyter-button {\n",
       "                    --jp-layout-color3: var(--colab-primary-surface-color, white);\n",
       "                }\n",
       "            </style>\n",
       "            "
      ],
      "text/plain": [
       "<IPython.core.display.HTML object>"
      ]
     },
     "metadata": {},
     "output_type": "display_data"
    },
    {
     "name": "stdout",
     "output_type": "stream",
     "text": [
      "1985 stats: {'population_count_max': 3128.0803604125977, 'population_count_min': 3.4267548471689224e-05}\n",
      "2000 stats: {'population_count_max': 5387.17724609375, 'population_count_min': 4.1365710785612464e-05}\n",
      "2015 stats: {'population_count_max': 12594.369140625, 'population_count_min': 2.032707016041968e-05}\n"
     ]
    }
   ],
   "source": [
    "Map = geemap.Map()\n",
    "Map.centerObject(MUM_coi, zoom=9)\n",
    "\n",
    "populationCountVis = {\n",
    "  'min': 0.0,\n",
    "  'max': 100.0,\n",
    "  'palette':['000004', '320A5A', '781B6C', 'BB3654', 'EC6824', 'FBB41A', 'FCFFA4']\n",
    "}\n",
    "image1985 = image1985.updateMask(image1985.gt(0))\n",
    "image2000 = image2000.updateMask(image2000.gt(0))\n",
    "image2015 = image2015.updateMask(image2015.gt(0))\n",
    "Map.addLayer(image1985, populationCountVis, 'Population count, 1985')\n",
    "Map.addLayer(image2000, populationCountVis, 'Population count, 1990')\n",
    "Map.addLayer(image2015, populationCountVis, 'Population count, 2015')\n",
    "Map.addLayer(MAN_rec_roi, {}, 'ROI', )\n",
    "Map\n",
    "print('1985 stats:', check_image_stats(image1985, MAN_roi))\n",
    "print('2000 stats:', check_image_stats(image2000, MAN_roi))\n",
    "print('2015 stats:', check_image_stats(image2015, MAN_roi))"
   ]
  },
  {
   "cell_type": "code",
   "execution_count": 12,
   "metadata": {},
   "outputs": [
    {
     "data": {
      "text/html": [
       "\n",
       "            <style>\n",
       "                .geemap-dark {\n",
       "                    --jp-widgets-color: white;\n",
       "                    --jp-widgets-label-color: white;\n",
       "                    --jp-ui-font-color1: white;\n",
       "                    --jp-layout-color2: #454545;\n",
       "                    background-color: #383838;\n",
       "                }\n",
       "\n",
       "                .geemap-dark .jupyter-button {\n",
       "                    --jp-layout-color3: #383838;\n",
       "                }\n",
       "\n",
       "                .geemap-colab {\n",
       "                    background-color: var(--colab-primary-surface-color, white);\n",
       "                }\n",
       "\n",
       "                .geemap-colab .jupyter-button {\n",
       "                    --jp-layout-color3: var(--colab-primary-surface-color, white);\n",
       "                }\n",
       "            </style>\n",
       "            "
      ],
      "text/plain": [
       "<IPython.core.display.HTML object>"
      ]
     },
     "metadata": {},
     "output_type": "display_data"
    },
    {
     "data": {
      "application/vnd.jupyter.widget-view+json": {
       "model_id": "bb20125459da41acade7d79a5d6bea12",
       "version_major": 2,
       "version_minor": 0
      },
      "text/plain": [
       "Map(center=[19.034271609056514, 73.0788276393919], controls=(WidgetControl(options=['position', 'transparent_b…"
      ]
     },
     "execution_count": 12,
     "metadata": {},
     "output_type": "execute_result"
    }
   ],
   "source": [
    "Map1985 = geemap.Map()\n",
    "Map1985.centerObject(MUM_coi, zoom=9)\n",
    "\n",
    "Map1985.addLayer(image1985, populationCountVis, 'Population count, 1985')\n",
    "Map1985"
   ]
  },
  {
   "cell_type": "markdown",
   "metadata": {},
   "source": [
    "# clip"
   ]
  },
  {
   "cell_type": "code",
   "execution_count": 13,
   "metadata": {},
   "outputs": [
    {
     "data": {
      "text/html": [
       "\n",
       "            <style>\n",
       "                .geemap-dark {\n",
       "                    --jp-widgets-color: white;\n",
       "                    --jp-widgets-label-color: white;\n",
       "                    --jp-ui-font-color1: white;\n",
       "                    --jp-layout-color2: #454545;\n",
       "                    background-color: #383838;\n",
       "                }\n",
       "\n",
       "                .geemap-dark .jupyter-button {\n",
       "                    --jp-layout-color3: #383838;\n",
       "                }\n",
       "\n",
       "                .geemap-colab {\n",
       "                    background-color: var(--colab-primary-surface-color, white);\n",
       "                }\n",
       "\n",
       "                .geemap-colab .jupyter-button {\n",
       "                    --jp-layout-color3: var(--colab-primary-surface-color, white);\n",
       "                }\n",
       "            </style>\n",
       "            "
      ],
      "text/plain": [
       "<IPython.core.display.HTML object>"
      ]
     },
     "metadata": {},
     "output_type": "display_data"
    },
    {
     "name": "stdout",
     "output_type": "stream",
     "text": [
      "JAK_pop2020 stats: {'population_count_max': 1309.1213073730469, 'population_count_min': 0.0028372779488563538}\n",
      "JAK_pop2000 stats: {'population_count_max': 1099.2298736572266, 'population_count_min': 0.0019140298245474696}\n",
      "JAK_pop1985 stats: {'population_count_max': 1010.3902435302734, 'population_count_min': 0.0009581255144439638}\n",
      "MUM_pop2020 stats: {'population_count_max': 2642.544921875, 'population_count_min': 0.0009943218901753426}\n",
      "MUM_pop2000 stats: {'population_count_max': 2968.5401611328125, 'population_count_min': 0.0014482978731393814}\n",
      "MUM_pop1985 stats: {'population_count_max': 2531.6363830566406, 'population_count_min': 0.0016850000247359276}\n",
      "MAN_pop2020 stats: {'population_count_max': 12594.369140625, 'population_count_min': 2.032707016041968e-05}\n",
      "MAN_pop2000 stats: {'population_count_max': 5387.17724609375, 'population_count_min': 4.1365710785612464e-05}\n",
      "MAN_pop1985 stats: {'population_count_max': 3128.0803604125977, 'population_count_min': 3.4267548471689224e-05}\n"
     ]
    }
   ],
   "source": [
    "# create individual images for each of the AOIs\n",
    "\n",
    "# JAK\n",
    "JAK_pop2015 = image2015.clip(JAK_rec_roi)\n",
    "JAK_pop2000 = image2000.clip(JAK_rec_roi)\n",
    "JAK_pop1985 = image1985.clip(JAK_rec_roi)\n",
    "JAK_crs='EPSG:'+str(JAK_aoi_crs)\n",
    "# MUM\n",
    "MUM_pop2015 = image2015.clip(MUM_rec_roi)\n",
    "MUM_pop2000 = image2000.clip(MUM_rec_roi)\n",
    "MUM_pop1985 = image1985.clip(MUM_rec_roi)\n",
    "MUM_crs='EPSG:'+str(MUM_aoi_crs)\n",
    "# MAN\n",
    "MAN_pop2015 = image2015.clip(MAN_rec_roi)\n",
    "MAN_pop2000 = image2000.clip(MAN_rec_roi)\n",
    "MAN_pop1985 = image1985.clip(MAN_rec_roi)\n",
    "MAN_crs='EPSG:'+str(MAN_aoi_crs)\n",
    "\n",
    "# check stats for each image\n",
    "print('JAK_pop2020 stats:', check_image_stats(JAK_pop2015, JAK_rec_roi))\n",
    "print('JAK_pop2000 stats:', check_image_stats(JAK_pop2000, JAK_rec_roi))\n",
    "print('JAK_pop1985 stats:', check_image_stats(JAK_pop1985, JAK_rec_roi))\n",
    "print('MUM_pop2020 stats:', check_image_stats(MUM_pop2015, MUM_rec_roi))\n",
    "print('MUM_pop2000 stats:', check_image_stats(MUM_pop2000, MUM_rec_roi))\n",
    "print('MUM_pop1985 stats:', check_image_stats(MUM_pop1985, MUM_rec_roi))\n",
    "print('MAN_pop2020 stats:', check_image_stats(MAN_pop2015, MAN_rec_roi))\n",
    "print('MAN_pop2000 stats:', check_image_stats(MAN_pop2000, MAN_rec_roi))\n",
    "print('MAN_pop1985 stats:', check_image_stats(MAN_pop1985, MAN_rec_roi))\n"
   ]
  },
  {
   "cell_type": "code",
   "execution_count": 10,
   "metadata": {},
   "outputs": [
    {
     "data": {
      "text/html": [
       "\n",
       "            <style>\n",
       "                .geemap-dark {\n",
       "                    --jp-widgets-color: white;\n",
       "                    --jp-widgets-label-color: white;\n",
       "                    --jp-ui-font-color1: white;\n",
       "                    --jp-layout-color2: #454545;\n",
       "                    background-color: #383838;\n",
       "                }\n",
       "\n",
       "                .geemap-dark .jupyter-button {\n",
       "                    --jp-layout-color3: #383838;\n",
       "                }\n",
       "\n",
       "                .geemap-colab {\n",
       "                    background-color: var(--colab-primary-surface-color, white);\n",
       "                }\n",
       "\n",
       "                .geemap-colab .jupyter-button {\n",
       "                    --jp-layout-color3: var(--colab-primary-surface-color, white);\n",
       "                }\n",
       "            </style>\n",
       "            "
      ],
      "text/plain": [
       "<IPython.core.display.HTML object>"
      ]
     },
     "metadata": {},
     "output_type": "display_data"
    },
    {
     "data": {
      "application/vnd.jupyter.widget-view+json": {
       "model_id": "2bf280ca7f2f4a62aed3667f1552d526",
       "version_major": 2,
       "version_minor": 0
      },
      "text/plain": [
       "Map(center=[14.499403720751358, 121.06482318543154], controls=(WidgetControl(options=['position', 'transparent…"
      ]
     },
     "execution_count": 10,
     "metadata": {},
     "output_type": "execute_result"
    }
   ],
   "source": [
    "Map = geemap.Map()\n",
    "Map.centerObject(MAN_coi, zoom=10)\n",
    "\n",
    "\n",
    "Map.addLayer(MAN_pop2020, {'min': 0.5, 'max':1000 , 'palette': ['000004', '320A5A', '781B6C', 'BB3654', 'EC6824', 'FBB41A', 'FCFFA4']}, 'population_count', True)\n",
    "# Map.addLayer(MUM_pop, {'min': 0, 'max': 1, 'palette': ['0000ff', '003cd5']}, 'population_count', True)\n",
    "# Map.addLayer(MAN_pop, {'min': 0, 'max': 1, 'palette': ['0000ff', '003cd5']}, 'population_count', True)\n",
    "# Map.addLayer(roi, {}, 'ROI')\n",
    "Map"
   ]
  },
  {
   "cell_type": "markdown",
   "metadata": {},
   "source": [
    "# export"
   ]
  },
  {
   "cell_type": "code",
   "execution_count": null,
   "metadata": {},
   "outputs": [],
   "source": [
    "# export the images for Jakarta\n",
    "# the function exports the images in the original CRS, as the reprojection caused a resampling error\n",
    "\n",
    "jak_task_2015 = export_image(JAK_pop2015, 'JAK_POP_population_2015_GHSL', JAK_rec_roi) \n",
    "jak_task_2000 = export_image(JAK_pop2000, 'JAK_POP_population_2000_GHSL', JAK_rec_roi) \n",
    "jak_task_1985 = export_image(JAK_pop1985, 'JAK_POP_population_1985_GHSL', JAK_rec_roi) \n",
    "\n",
    "# check task status\n",
    "tasks = [jak_task_2015, jak_task_2000, jak_task_1985]\n",
    "for task in tasks: \n",
    "    if task: \n",
    "        print(f'Task {task.status()[\"id\"]} is {task.status()[\"state\"]}')\n",
    "    else:\n",
    "        print('Task failed')"
   ]
  },
  {
   "cell_type": "code",
   "execution_count": null,
   "metadata": {},
   "outputs": [],
   "source": [
    "# export the images for Mumbai\n",
    "# the function exports the images in the original CRS, as the reprojection caused a resampling error\n",
    "\n",
    "mum_task_2015 = export_image(MUM_pop2015, 'MUM_POP_population_2015_GHSL', MUM_rec_roi) \n",
    "mum_task_2000 = export_image(MUM_pop2000, 'MUM_POP_population_2000_GHSL', MUM_rec_roi) \n",
    "mum_task_1985 = export_image(MUM_pop1985, 'MUM_POP_population_1985_GHSL', MUM_rec_roi)  \n",
    "\n",
    "# check task status\n",
    "tasks = [mum_task_2015, mum_task_2000, mum_task_1985]\n",
    "for task in tasks: \n",
    "    if task: \n",
    "        print(f'Task {task.status()[\"id\"]} is {task.status()[\"state\"]}')\n",
    "    else:\n",
    "        print('Task failed')"
   ]
  },
  {
   "cell_type": "code",
   "execution_count": 11,
   "metadata": {},
   "outputs": [
    {
     "data": {
      "text/html": [
       "\n",
       "            <style>\n",
       "                .geemap-dark {\n",
       "                    --jp-widgets-color: white;\n",
       "                    --jp-widgets-label-color: white;\n",
       "                    --jp-ui-font-color1: white;\n",
       "                    --jp-layout-color2: #454545;\n",
       "                    background-color: #383838;\n",
       "                }\n",
       "\n",
       "                .geemap-dark .jupyter-button {\n",
       "                    --jp-layout-color3: #383838;\n",
       "                }\n",
       "\n",
       "                .geemap-colab {\n",
       "                    background-color: var(--colab-primary-surface-color, white);\n",
       "                }\n",
       "\n",
       "                .geemap-colab .jupyter-button {\n",
       "                    --jp-layout-color3: var(--colab-primary-surface-color, white);\n",
       "                }\n",
       "            </style>\n",
       "            "
      ],
      "text/plain": [
       "<IPython.core.display.HTML object>"
      ]
     },
     "metadata": {},
     "output_type": "display_data"
    },
    {
     "name": "stdout",
     "output_type": "stream",
     "text": [
      "Task DSCQFVICLTR6PGO5VRSJYLSY is READY\n",
      "Task SCMQOGG7UR65IT55F4Y5XJEH is READY\n",
      "Task ZGBW45XSSN2OMEGEN3LMHK7R is READY\n"
     ]
    }
   ],
   "source": [
    "# export the images for Manila\n",
    "# the function exports the images in the original CRS, as the reprojection caused a resampling error\n",
    "\n",
    "man_task_2015 = export_image(MAN_pop2015, 'MAN_POP_population_2015_GHSL', MAN_rec_roi) \n",
    "man_task_2000 = export_image(MAN_pop2000, 'MAN_POP_population_2000_GHSL', MAN_rec_roi) \n",
    "man_task_1985 = export_image(MAN_pop1985, 'MAN_POP_population_1985_GHSL', MAN_rec_roi) \n",
    "\n",
    "# check task status\n",
    "tasks = [man_task_2015, man_task_2000, man_task_1985]\n",
    "for task in tasks: \n",
    "    if task: \n",
    "        print(f'Task {task.status()[\"id\"]} is {task.status()[\"state\"]}')\n",
    "    else:\n",
    "        print('Task failed')"
   ]
  },
  {
   "cell_type": "code",
   "execution_count": 14,
   "metadata": {},
   "outputs": [
    {
     "data": {
      "text/html": [
       "\n",
       "            <style>\n",
       "                .geemap-dark {\n",
       "                    --jp-widgets-color: white;\n",
       "                    --jp-widgets-label-color: white;\n",
       "                    --jp-ui-font-color1: white;\n",
       "                    --jp-layout-color2: #454545;\n",
       "                    background-color: #383838;\n",
       "                }\n",
       "\n",
       "                .geemap-dark .jupyter-button {\n",
       "                    --jp-layout-color3: #383838;\n",
       "                }\n",
       "\n",
       "                .geemap-colab {\n",
       "                    background-color: var(--colab-primary-surface-color, white);\n",
       "                }\n",
       "\n",
       "                .geemap-colab .jupyter-button {\n",
       "                    --jp-layout-color3: var(--colab-primary-surface-color, white);\n",
       "                }\n",
       "            </style>\n",
       "            "
      ],
      "text/plain": [
       "<IPython.core.display.HTML object>"
      ]
     },
     "metadata": {},
     "output_type": "display_data"
    },
    {
     "name": "stderr",
     "output_type": "stream",
     "text": [
      "INFO:root:Exporting JAK_POP_population_2015_GHSL to Google Drive\n",
      "INFO:root:Exporting MUM_POP_population_2015_GHSL to Google Drive\n",
      "INFO:root:Exporting MAN_POP_population_2015_GHSL to Google Drive\n"
     ]
    },
    {
     "name": "stdout",
     "output_type": "stream",
     "text": [
      "Task B6YT5FU4XXRD4R45VVUWK4SP is READY\n",
      "Task M7C3URZSP2F6BINRXLGAV3FT is READY\n",
      "Task ATV4GDJO5VZGZPNHIQCDW76F is READY\n"
     ]
    }
   ],
   "source": [
    "jak_task_2015 = export_image(JAK_pop2015, 'JAK_POP_population_2015_GHSL', JAK_rec_roi) \n",
    "mum_task_2015 = export_image(MUM_pop2015, 'MUM_POP_population_2015_GHSL', MUM_rec_roi) \n",
    "man_task_2015 = export_image(MAN_pop2015, 'MAN_POP_population_2015_GHSL', MAN_rec_roi) \n",
    "\n",
    "tasks = [jak_task_2015, mum_task_2015, man_task_2015]\n",
    "for task in tasks: \n",
    "    if task: \n",
    "        print(f'Task {task.status()[\"id\"]} is {task.status()[\"state\"]}')\n",
    "    else:\n",
    "        print('Task failed')"
   ]
  },
  {
   "cell_type": "code",
   "execution_count": null,
   "metadata": {},
   "outputs": [
    {
     "data": {
      "text/html": [
       "\n",
       "            <style>\n",
       "                .geemap-dark {\n",
       "                    --jp-widgets-color: white;\n",
       "                    --jp-widgets-label-color: white;\n",
       "                    --jp-ui-font-color1: white;\n",
       "                    --jp-layout-color2: #454545;\n",
       "                    background-color: #383838;\n",
       "                }\n",
       "\n",
       "                .geemap-dark .jupyter-button {\n",
       "                    --jp-layout-color3: #383838;\n",
       "                }\n",
       "\n",
       "                .geemap-colab {\n",
       "                    background-color: var(--colab-primary-surface-color, white);\n",
       "                }\n",
       "\n",
       "                .geemap-colab .jupyter-button {\n",
       "                    --jp-layout-color3: var(--colab-primary-surface-color, white);\n",
       "                }\n",
       "            </style>\n",
       "            "
      ],
      "text/plain": [
       "<IPython.core.display.HTML object>"
      ]
     },
     "metadata": {},
     "output_type": "display_data"
    }
   ],
   "source": []
  }
 ],
 "metadata": {
  "kernelspec": {
   "display_name": "Python 3",
   "language": "python",
   "name": "python3"
  },
  "language_info": {
   "codemirror_mode": {
    "name": "ipython",
    "version": 3
   },
   "file_extension": ".py",
   "mimetype": "text/x-python",
   "name": "python",
   "nbconvert_exporter": "python",
   "pygments_lexer": "ipython3",
   "version": "3.12.3"
  }
 },
 "nbformat": 4,
 "nbformat_minor": 2
}
