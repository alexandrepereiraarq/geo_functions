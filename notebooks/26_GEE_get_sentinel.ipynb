{
 "cells": [
  {
   "cell_type": "markdown",
   "metadata": {},
   "source": [
    "### Authorship\n",
    "@author: Alexandre Pereira Santos <br>\n",
    "alexandre.santos(at)lmu.de<br>\n",
    "- many scripts in this notebook com from geemap (see below)\n",
    "\n",
    "### Tasks\n",
    "- get Sentinel2 data using the Google Earth Engine functionalities\n",
    "- clip it to an AOI\n",
    "\n",
    "### Prerequisites\n",
    "- earth engine api (ee) https://developers.google.com/earth-engine/apidocs\n",
    "- gee map (gee), https://geemap.org/ by Qiusheng Wu\n",
    "- create an account and a Google Cloud project in Google Developer, see here: https://developers.google.com/earth-engine/guides/auth\n",
    "\n",
    "# init"
   ]
  },
  {
   "cell_type": "code",
   "execution_count": 24,
   "metadata": {},
   "outputs": [
    {
     "data": {
      "text/html": [
       "\n",
       "            <style>\n",
       "                .geemap-dark {\n",
       "                    --jp-widgets-color: white;\n",
       "                    --jp-widgets-label-color: white;\n",
       "                    --jp-ui-font-color1: white;\n",
       "                    --jp-layout-color2: #454545;\n",
       "                    background-color: #383838;\n",
       "                }\n",
       "\n",
       "                .geemap-dark .jupyter-button {\n",
       "                    --jp-layout-color3: #383838;\n",
       "                }\n",
       "\n",
       "                .geemap-colab {\n",
       "                    background-color: var(--colab-primary-surface-color, white);\n",
       "                }\n",
       "\n",
       "                .geemap-colab .jupyter-button {\n",
       "                    --jp-layout-color3: var(--colab-primary-surface-color, white);\n",
       "                }\n",
       "            </style>\n",
       "            "
      ],
      "text/plain": [
       "<IPython.core.display.HTML object>"
      ]
     },
     "metadata": {},
     "output_type": "display_data"
    }
   ],
   "source": [
    "import ee\n",
    "import geemap\n",
    "from pathlib import Path\n",
    "import geopandas as gpd\n",
    "import matplotlib.pyplot as plt\n",
    "import matplotlib.dates as mdates\n",
    "import logging"
   ]
  },
  {
   "cell_type": "code",
   "execution_count": 23,
   "metadata": {},
   "outputs": [
    {
     "data": {
      "text/html": [
       "\n",
       "            <style>\n",
       "                .geemap-dark {\n",
       "                    --jp-widgets-color: white;\n",
       "                    --jp-widgets-label-color: white;\n",
       "                    --jp-ui-font-color1: white;\n",
       "                    --jp-layout-color2: #454545;\n",
       "                    background-color: #383838;\n",
       "                }\n",
       "\n",
       "                .geemap-dark .jupyter-button {\n",
       "                    --jp-layout-color3: #383838;\n",
       "                }\n",
       "\n",
       "                .geemap-colab {\n",
       "                    background-color: var(--colab-primary-surface-color, white);\n",
       "                }\n",
       "\n",
       "                .geemap-colab .jupyter-button {\n",
       "                    --jp-layout-color3: var(--colab-primary-surface-color, white);\n",
       "                }\n",
       "            </style>\n",
       "            "
      ],
      "text/plain": [
       "<IPython.core.display.HTML object>"
      ]
     },
     "metadata": {},
     "output_type": "display_data"
    },
    {
     "name": "stdout",
     "output_type": "stream",
     "text": [
      "0.1.406\n"
     ]
    }
   ],
   "source": [
    "# Authenticate and initialize Earth Engine\n",
    "ee.Authenticate()\n",
    "ee.Initialize(project='ee-alexandresantosgeographie') # Replace with your GEE project\n",
    "print(ee.__version__)"
   ]
  },
  {
   "cell_type": "code",
   "execution_count": 30,
   "metadata": {},
   "outputs": [
    {
     "data": {
      "text/html": [
       "\n",
       "            <style>\n",
       "                .geemap-dark {\n",
       "                    --jp-widgets-color: white;\n",
       "                    --jp-widgets-label-color: white;\n",
       "                    --jp-ui-font-color1: white;\n",
       "                    --jp-layout-color2: #454545;\n",
       "                    background-color: #383838;\n",
       "                }\n",
       "\n",
       "                .geemap-dark .jupyter-button {\n",
       "                    --jp-layout-color3: #383838;\n",
       "                }\n",
       "\n",
       "                .geemap-colab {\n",
       "                    background-color: var(--colab-primary-surface-color, white);\n",
       "                }\n",
       "\n",
       "                .geemap-colab .jupyter-button {\n",
       "                    --jp-layout-color3: var(--colab-primary-surface-color, white);\n",
       "                }\n",
       "            </style>\n",
       "            "
      ],
      "text/plain": [
       "<IPython.core.display.HTML object>"
      ]
     },
     "metadata": {},
     "output_type": "display_data"
    }
   ],
   "source": [
    "# set up logging\n",
    "logging.basicConfig(level=logging.INFO)\n",
    "\n",
    "# define a function that exports the image to Google Drive\n",
    "def export_image(image, filename, roi): #crs, projection, removed these arguments as they caused a resampling error\n",
    "    try: \n",
    "        task = ee.batch.Export.image.toDrive(\n",
    "            image=image,\n",
    "            description=filename,\n",
    "            folder='gee_exports',\n",
    "            region=roi,\n",
    "            #crs=crs,\n",
    "            #crsTransform=projection['transform'],\n",
    "            maxPixels=1e13,\n",
    "            fileFormat='GeoTIFF',\n",
    "            formatOptions={\n",
    "                'cloudOptimized': False\n",
    "            }\n",
    "        )\n",
    "        task.start()\n",
    "        logging.info(f'Exporting {filename} to Google Drive')\n",
    "        return task\n",
    "    except Exception as e:\n",
    "        logging.error(f'An error has occurred: {e}')\n",
    "        return None\n",
    "\n",
    "def gee_to_tiff(input_layer, out_folder, output_filename, crs, roi):\n",
    "    #projection = input_layer.projection().getInfo()\n",
    "    \n",
    "    try:\n",
    "        if not os.path.exists(out_folder):\n",
    "            os.mkdir(out_folder)\n",
    "        \n",
    "        # Export a GEE layer to raster Gtiff\n",
    "        geemap.ee_export_image_to_drive(\n",
    "            input_layer,\n",
    "            description=output_filename,\n",
    "            folder=out_folder,\n",
    "            maxPixels=1e13, #ressamples to a low resolution\n",
    "            region = roi,\n",
    "            crs = crs, #projection['crs'],\n",
    "            fileFormat = 'GeoTIFF',\n",
    "            scale = 10           \n",
    "        )\n",
    "        #raster = \n",
    "        #return raster\n",
    "    except Exception as e:\n",
    "        print(\"An error has occurred:\", e)\n",
    "    \n",
    "# check image stats before export\n",
    "def check_image_stats(image, roi): \n",
    "    stats = image.reduceRegion(\n",
    "        reducer=ee.Reducer.minMax(),\n",
    "        geometry=roi,\n",
    "        scale=250,\n",
    "        maxPixels=1e9       \n",
    "    )\n",
    "    return stats.getInfo()\n",
    "\n",
    "\n",
    "# extract coordinates from the bounding box\n",
    "def get_coords(gdf):\n",
    "    coords = gdf.envelope #.to_crs(epsg='4326') the CRS is defined at the import\n",
    "    epsg_coords = coords.crs.to_epsg()\n",
    "    transform = [coords.bounds.values[0][0], coords.bounds.values[0][1], coords.bounds.values[0][2], coords.bounds.values[0][3]]\n",
    "    roi = ee.Geometry.BBox(west=transform[0], south=transform[1], east=transform[2], north=transform[3])\n",
    "    rec_roi = ee.Geometry.Rectangle(transform[0],transform[1],transform[2],transform[3])\n",
    "    coi = roi.centroid(maxError=1)\n",
    "    return epsg_coords, roi, rec_roi, coi\n"
   ]
  },
  {
   "cell_type": "code",
   "execution_count": 4,
   "metadata": {},
   "outputs": [
    {
     "data": {
      "text/html": [
       "\n",
       "            <style>\n",
       "                .geemap-dark {\n",
       "                    --jp-widgets-color: white;\n",
       "                    --jp-widgets-label-color: white;\n",
       "                    --jp-ui-font-color1: white;\n",
       "                    --jp-layout-color2: #454545;\n",
       "                    background-color: #383838;\n",
       "                }\n",
       "\n",
       "                .geemap-dark .jupyter-button {\n",
       "                    --jp-layout-color3: #383838;\n",
       "                }\n",
       "\n",
       "                .geemap-colab {\n",
       "                    background-color: var(--colab-primary-surface-color, white);\n",
       "                }\n",
       "\n",
       "                .geemap-colab .jupyter-button {\n",
       "                    --jp-layout-color3: var(--colab-primary-surface-color, white);\n",
       "                }\n",
       "            </style>\n",
       "            "
      ],
      "text/plain": [
       "<IPython.core.display.HTML object>"
      ]
     },
     "metadata": {},
     "output_type": "display_data"
    }
   ],
   "source": [
    "#defining filter funcions for Sentinel data\n",
    "#code from https://developers.google.com/earth-engine/datasets/catalog/COPERNICUS_S2_SR_HARMONIZED#colab-python\n",
    "\n",
    "def mask_s2_clouds(image):\n",
    "  \"\"\"Masks clouds in a Sentinel-2 image using the QA band.\n",
    "\n",
    "  Args:\n",
    "      image (ee.Image): A Sentinel-2 image.\n",
    "\n",
    "  Returns:\n",
    "      ee.Image: A cloud-masked Sentinel-2 image.\n",
    "  \"\"\"\n",
    "  qa = image.select('QA60')\n",
    "\n",
    "  # Bits 10 and 11 are clouds and cirrus, respectively.\n",
    "  cloud_bit_mask = 1 << 10\n",
    "  cirrus_bit_mask = 1 << 11\n",
    "\n",
    "  # Both flags should be set to zero, indicating clear conditions.\n",
    "  mask = (\n",
    "      qa.bitwiseAnd(cloud_bit_mask)\n",
    "      .eq(0)\n",
    "      .And(qa.bitwiseAnd(cirrus_bit_mask).eq(0))\n",
    "  )\n",
    "\n",
    "  return image.updateMask(mask).divide(10000)"
   ]
  },
  {
   "cell_type": "code",
   "execution_count": 5,
   "metadata": {},
   "outputs": [
    {
     "data": {
      "text/html": [
       "\n",
       "            <style>\n",
       "                .geemap-dark {\n",
       "                    --jp-widgets-color: white;\n",
       "                    --jp-widgets-label-color: white;\n",
       "                    --jp-ui-font-color1: white;\n",
       "                    --jp-layout-color2: #454545;\n",
       "                    background-color: #383838;\n",
       "                }\n",
       "\n",
       "                .geemap-dark .jupyter-button {\n",
       "                    --jp-layout-color3: #383838;\n",
       "                }\n",
       "\n",
       "                .geemap-colab {\n",
       "                    background-color: var(--colab-primary-surface-color, white);\n",
       "                }\n",
       "\n",
       "                .geemap-colab .jupyter-button {\n",
       "                    --jp-layout-color3: var(--colab-primary-surface-color, white);\n",
       "                }\n",
       "            </style>\n",
       "            "
      ],
      "text/plain": [
       "<IPython.core.display.HTML object>"
      ]
     },
     "metadata": {},
     "output_type": "display_data"
    },
    {
     "name": "stdout",
     "output_type": "stream",
     "text": [
      "NASADEM: NASA NASADEM Digital Elevation 30m\n"
     ]
    }
   ],
   "source": [
    "# check if the authentication is working\n",
    "print(ee.Image(\"NASA/NASADEM_HGT/001\").get(\"title\").getInfo())"
   ]
  },
  {
   "cell_type": "markdown",
   "metadata": {},
   "source": [
    "# imports"
   ]
  },
  {
   "cell_type": "code",
   "execution_count": 37,
   "metadata": {},
   "outputs": [
    {
     "data": {
      "text/html": [
       "\n",
       "            <style>\n",
       "                .geemap-dark {\n",
       "                    --jp-widgets-color: white;\n",
       "                    --jp-widgets-label-color: white;\n",
       "                    --jp-ui-font-color1: white;\n",
       "                    --jp-layout-color2: #454545;\n",
       "                    background-color: #383838;\n",
       "                }\n",
       "\n",
       "                .geemap-dark .jupyter-button {\n",
       "                    --jp-layout-color3: #383838;\n",
       "                }\n",
       "\n",
       "                .geemap-colab {\n",
       "                    background-color: var(--colab-primary-surface-color, white);\n",
       "                }\n",
       "\n",
       "                .geemap-colab .jupyter-button {\n",
       "                    --jp-layout-color3: var(--colab-primary-surface-color, white);\n",
       "                }\n",
       "            </style>\n",
       "            "
      ],
      "text/plain": [
       "<IPython.core.display.HTML object>"
      ]
     },
     "metadata": {},
     "output_type": "display_data"
    },
    {
     "name": "stdout",
     "output_type": "stream",
     "text": [
      "The CRS are, MUM: 4326 JAK: 4326 MAN: 4326\n"
     ]
    }
   ],
   "source": [
    "#input a vector and a raster file\n",
    "#input a vector and a raster file\n",
    "AOI_path = Path('../data/processed/')\n",
    "\n",
    "AOI_file_JAK = 'JAK_LIM_BoundingBox_AOI_A.shp' #Jakarta\n",
    "AOI_file_MUM = 'MUM_LIM_BoundingBox_AOI_A.shp' #Mumbai\n",
    "AOI_file_MAN = 'MAN_LIM_BoundingBox_AOI_A.shp' #Manila\n",
    "\n",
    "#read the vector files\n",
    "AOI_gdf_JAK = gpd.read_file(AOI_path/AOI_file_JAK).to_crs(epsg=4326)\n",
    "AOI_gdf_MUM = gpd.read_file(AOI_path/AOI_file_MUM).to_crs(epsg=4326)\n",
    "AOI_gdf_MAN = gpd.read_file(AOI_path/AOI_file_MAN).to_crs(epsg=4326)\n",
    "\n",
    "# get the coordinates\n",
    "JAK_aoi_crs, JAK_roi, JAK_rec_roi, JAK_coi = get_coords(AOI_gdf_JAK)\n",
    "MUM_aoi_crs, MUM_roi, MUM_rec_roi, MUM_coi = get_coords(AOI_gdf_MUM)\n",
    "MAN_aoi_crs, MAN_roi, MAN_rec_roi, MAN_coi = get_coords(AOI_gdf_MAN)\n",
    "\n",
    "#print(coords)\n",
    "print('The CRS are, MUM:', MUM_aoi_crs,'JAK:', JAK_aoi_crs, 'MAN:',MAN_aoi_crs)\n",
    "\n"
   ]
  },
  {
   "cell_type": "code",
   "execution_count": null,
   "metadata": {},
   "outputs": [],
   "source": [
    "# extract coordinates from the bounding box\n",
    "aoi_coords = AOI_gdf.envelope\n",
    "#print('N',aoi_coords.bounds.values[0][3],'S',aoi_coords.bounds.values[0][1],'W',aoi_coords.bounds.values[0][0],'E',aoi_coords.bounds.values[0][2])\n",
    "transform = [aoi_coords.bounds.values[0][0], aoi_coords.bounds.values[0][1], aoi_coords.bounds.values[0][2], aoi_coords.bounds.values[0][3]]\n",
    "roi = ee.Geometry.BBox(west=transform[0], south=transform[1], east=transform[2], north=transform[3])\n",
    "rec_roi = ee.Geometry.Rectangle(transform[0],transform[1],transform[2],transform[3])\n",
    "coi = roi.centroid(maxError=1)\n",
    "#coi = AOI_gdf.to_crs(epsg='4326').dissolve().centroid.to_crs('EPSG:4326').geometry.apply(lambda x: (x.x, x.y)).values[0]\n",
    "aoi_crs = AOI_gdf.crs.to_epsg()\n",
    "#print(coords)"
   ]
  },
  {
   "cell_type": "markdown",
   "metadata": {},
   "source": [
    "# get"
   ]
  },
  {
   "cell_type": "code",
   "execution_count": 35,
   "metadata": {},
   "outputs": [
    {
     "data": {
      "text/html": [
       "\n",
       "            <style>\n",
       "                .geemap-dark {\n",
       "                    --jp-widgets-color: white;\n",
       "                    --jp-widgets-label-color: white;\n",
       "                    --jp-ui-font-color1: white;\n",
       "                    --jp-layout-color2: #454545;\n",
       "                    background-color: #383838;\n",
       "                }\n",
       "\n",
       "                .geemap-dark .jupyter-button {\n",
       "                    --jp-layout-color3: #383838;\n",
       "                }\n",
       "\n",
       "                .geemap-colab {\n",
       "                    background-color: var(--colab-primary-surface-color, white);\n",
       "                }\n",
       "\n",
       "                .geemap-colab .jupyter-button {\n",
       "                    --jp-layout-color3: var(--colab-primary-surface-color, white);\n",
       "                }\n",
       "            </style>\n",
       "            "
      ],
      "text/plain": [
       "<IPython.core.display.HTML object>"
      ]
     },
     "metadata": {},
     "output_type": "display_data"
    },
    {
     "data": {
      "image/png": "[encoded data removed]",
      "text/plain": [
       "<Figure size 1500x600 with 1 Axes>"
      ]
     },
     "metadata": {},
     "output_type": "display_data"
    }
   ],
   "source": [
    "roi = JAK_rec_roi\n",
    "\n",
    "# Define your ImageCollection #S2_SR_HARMONIZED or S2\n",
    "sentinel2 = ee.ImageCollection(\"COPERNICUS/S2_HARMONIZED\") \\\n",
    "    .filterBounds(roi) \\\n",
    "    .filterDate('2020-01-01','2020-12-31') \\\n",
    "    .filter(ee.Filter.lt('CLOUDY_PIXEL_PERCENTAGE', 5))\n",
    "\n",
    "# Get the list of dates\n",
    "dates = sentinel2.aggregate_array('system:time_start').map(lambda time_start: ee.Date(time_start).format('YYYY-MM-dd')).getInfo()\n",
    "\n",
    "# Get the list of CLOUDY_PIXEL_PERCENTAGE values\n",
    "cloudy_pixel_percentage_list = sentinel2.reduceColumns(ee.Reducer.toList(), [\"CLOUDY_PIXEL_PERCENTAGE\"]).get('list')\n",
    "\n",
    "# Convert to Python list\n",
    "cloudy_pixel_percentage_py_list = ee.List(cloudy_pixel_percentage_list).getInfo()\n",
    "\n",
    "# Convert dates to datetime objects\n",
    "dates = [mdates.datestr2num(date) for date in dates]\n",
    "\n",
    "# Filter the ImageCollection based on CLOUDY_PIXEL_PERCENTAGE < 1\n",
    "filtered_collection = sentinel2.filter(ee.Filter.lt('CLOUDY_PIXEL_PERCENTAGE', 1))\n",
    "\n",
    "# Get the list of dates\n",
    "filtered_dates = filtered_collection.aggregate_array('system:time_start').map(lambda time_start: ee.Date(time_start).format('YYYY-MM-dd')).getInfo()\n",
    "\n",
    "# Plot the data\n",
    "plt.figure(figsize=(15, 6))\n",
    "plt.plot_date(dates, cloudy_pixel_percentage_py_list, '-')\n",
    "title_str = 'Cloudy Pixel Percentage in Jakarta, Indonesia (2017-2023), includes '+str(len(filtered_dates))+' images with less than 1% cloud cover'\n",
    "plt.title(title_str)\n",
    "plt.xlabel('Date')\n",
    "plt.ylabel('Cloudy Pixel Percentage')\n",
    "plt.gca().xaxis.set_major_formatter(mdates.DateFormatter('%Y-%m-%d'))\n",
    "plt.gca().xaxis.set_major_locator(mdates.DayLocator(interval=60))  # set interval = 60 days\n",
    "plt.gcf().autofmt_xdate()  # rotate and align the x labels\n",
    "plt.show()"
   ]
  },
  {
   "cell_type": "code",
   "execution_count": 12,
   "metadata": {},
   "outputs": [
    {
     "data": {
      "text/html": [
       "\n",
       "            <style>\n",
       "                .geemap-dark {\n",
       "                    --jp-widgets-color: white;\n",
       "                    --jp-widgets-label-color: white;\n",
       "                    --jp-ui-font-color1: white;\n",
       "                    --jp-layout-color2: #454545;\n",
       "                    background-color: #383838;\n",
       "                }\n",
       "\n",
       "                .geemap-dark .jupyter-button {\n",
       "                    --jp-layout-color3: #383838;\n",
       "                }\n",
       "\n",
       "                .geemap-colab {\n",
       "                    background-color: var(--colab-primary-surface-color, white);\n",
       "                }\n",
       "\n",
       "                .geemap-colab .jupyter-button {\n",
       "                    --jp-layout-color3: var(--colab-primary-surface-color, white);\n",
       "                }\n",
       "            </style>\n",
       "            "
      ],
      "text/plain": [
       "<IPython.core.display.HTML object>"
      ]
     },
     "metadata": {},
     "output_type": "display_data"
    },
    {
     "data": {
      "application/vnd.jupyter.widget-view+json": {
       "model_id": "8450295bd875401b8f7945848cae635f",
       "version_major": 2,
       "version_minor": 0
      },
      "text/plain": [
       "Map(center=[-6.356096336666425, 106.74822478594142], controls=(WidgetControl(options=['position', 'transparent…"
      ]
     },
     "execution_count": 12,
     "metadata": {},
     "output_type": "execute_result"
    }
   ],
   "source": [
    "# creating a cloud mask\n",
    "#code from https://github.com/giswqs/earthengine-py-notebooks/blob/master/Algorithms/CloudMasking/sentinel-2.ipynb\n",
    "# Add Earth Engine dataset\n",
    "# This example uses the Sentinel-2 QA band to cloud mask\n",
    "# the collection.  The Sentinel-2 cloud flags are less\n",
    "# selective, so the collection is also pre-filtered by the\n",
    "# CLOUDY_PIXEL_PERCENTAGE flag, to use only relatively\n",
    "# cloud-free granule.\n",
    "\n",
    "Map = geemap.Map()\n",
    "Map.centerObject(coi, zoom=9)\n",
    "\n",
    "# Function to mask clouds using the Sentinel-2 QA band.\n",
    "# function maskS2clouds(image) {\n",
    "def maskS2clouds(image):\n",
    "  qa = image.select('QA60')\n",
    "\n",
    "  # Bits 10 and 11 are clouds and cirrus, respectively.\n",
    "  cloudBitMask = 1 << 10\n",
    "  cirrusBitMask = 1 << 11\n",
    "\n",
    "  # Both flags should be set to zero, indicating clear conditions.\n",
    "  mask = qa.bitwiseAnd(cloudBitMask).eq(0).And(\n",
    "             qa.bitwiseAnd(cirrusBitMask).eq(0))\n",
    "\n",
    "  # Return the masked and scaled data, without the QA bands.\n",
    "  return image.updateMask(mask).divide(10000) \\\n",
    "      .select(\"B.*\") \\\n",
    "      .copyProperties(image, [\"system:time_start\"])\n",
    "# }\n",
    "\n",
    "# Map the function over one year of data and take the median.\n",
    "# Load Sentinel-2 TOA reflectance data.\n",
    "collection = ee.ImageCollection('COPERNICUS/S2') \\\n",
    "    .filterDate(filtered_dates[0],filtered_dates[-1]) \\\n",
    "    .filter(ee.Filter.lt('CLOUDY_PIXEL_PERCENTAGE', 20)) \\\n",
    "    .map(maskS2clouds)\n",
    "\n",
    "composite = collection.median()\n",
    "\n",
    "# Display the results.\n",
    "Map.addLayer(composite, {'bands': ['B4', 'B3', 'B2'], 'min': 0, 'max': 0.3}, 'RGB')\n",
    "Map.addLayer(roi, {}, 'ROI')\n",
    "Map"
   ]
  },
  {
   "cell_type": "code",
   "execution_count": 32,
   "metadata": {},
   "outputs": [
    {
     "data": {
      "text/html": [
       "\n",
       "            <style>\n",
       "                .geemap-dark {\n",
       "                    --jp-widgets-color: white;\n",
       "                    --jp-widgets-label-color: white;\n",
       "                    --jp-ui-font-color1: white;\n",
       "                    --jp-layout-color2: #454545;\n",
       "                    background-color: #383838;\n",
       "                }\n",
       "                    \n",
       "                .geemap-dark .jupyter-button {\n",
       "                    --jp-layout-color3: #383838;\n",
       "                }\n",
       "                \n",
       "                .geemap-colab {\n",
       "                    background-color: var(--colab-primary-surface-color, white);\n",
       "                }\n",
       "                    \n",
       "                .geemap-colab .jupyter-button {\n",
       "                    --jp-layout-color3: var(--colab-primary-surface-color, white);\n",
       "                }\n",
       "            </style>\n",
       "            "
      ],
      "text/plain": [
       "<IPython.core.display.HTML object>"
      ]
     },
     "metadata": {},
     "output_type": "display_data"
    },
    {
     "data": {
      "text/plain": [
       "ee.image.Image"
      ]
     },
     "execution_count": 32,
     "metadata": {},
     "output_type": "execute_result"
    }
   ],
   "source": [
    "type(composite)"
   ]
  },
  {
   "cell_type": "code",
   "execution_count": 25,
   "metadata": {},
   "outputs": [
    {
     "data": {
      "text/html": [
       "\n",
       "            <style>\n",
       "                .geemap-dark {\n",
       "                    --jp-widgets-color: white;\n",
       "                    --jp-widgets-label-color: white;\n",
       "                    --jp-ui-font-color1: white;\n",
       "                    --jp-layout-color2: #454545;\n",
       "                    background-color: #383838;\n",
       "                }\n",
       "\n",
       "                .geemap-dark .jupyter-button {\n",
       "                    --jp-layout-color3: #383838;\n",
       "                }\n",
       "\n",
       "                .geemap-colab {\n",
       "                    background-color: var(--colab-primary-surface-color, white);\n",
       "                }\n",
       "\n",
       "                .geemap-colab .jupyter-button {\n",
       "                    --jp-layout-color3: var(--colab-primary-surface-color, white);\n",
       "                }\n",
       "            </style>\n",
       "            "
      ],
      "text/plain": [
       "<IPython.core.display.HTML object>"
      ]
     },
     "metadata": {},
     "output_type": "display_data"
    },
    {
     "name": "stdout",
     "output_type": "stream",
     "text": [
      "EPSG:4326 EPSG:32748\n"
     ]
    }
   ],
   "source": [
    "projection = composite.select('B2').projection().getInfo()\n",
    "crs='EPSG:'+str(aoi_crs)\n",
    "print(projection['crs'], crs)"
   ]
  },
  {
   "cell_type": "markdown",
   "metadata": {},
   "source": [
    "# export"
   ]
  },
  {
   "cell_type": "code",
   "execution_count": 34,
   "metadata": {},
   "outputs": [
    {
     "data": {
      "text/html": [
       "\n",
       "            <style>\n",
       "                .geemap-dark {\n",
       "                    --jp-widgets-color: white;\n",
       "                    --jp-widgets-label-color: white;\n",
       "                    --jp-ui-font-color1: white;\n",
       "                    --jp-layout-color2: #454545;\n",
       "                    background-color: #383838;\n",
       "                }\n",
       "\n",
       "                .geemap-dark .jupyter-button {\n",
       "                    --jp-layout-color3: #383838;\n",
       "                }\n",
       "\n",
       "                .geemap-colab {\n",
       "                    background-color: var(--colab-primary-surface-color, white);\n",
       "                }\n",
       "\n",
       "                .geemap-colab .jupyter-button {\n",
       "                    --jp-layout-color3: var(--colab-primary-surface-color, white);\n",
       "                }\n",
       "            </style>\n",
       "            "
      ],
      "text/plain": [
       "<IPython.core.display.HTML object>"
      ]
     },
     "metadata": {},
     "output_type": "display_data"
    },
    {
     "name": "stdout",
     "output_type": "stream",
     "text": [
      "Task XT5I6Y74STGD744DCECFJQAH is READY\n"
     ]
    }
   ],
   "source": [
    "# export the images for Jakarta\n",
    "# the function exports the images in the original CRS, as the reprojection caused a resampling error\n",
    "\n",
    "jak_task_2000 = export_image(composite, 'JAK_ENV_Sentinel2_2023', JAK_rec_roi) \n",
    "#jak_task_2020 = export_image(JAK_pop2020, 'JAK_POP_population_2020_GHSL', JAK_rec_roi) \n",
    "#jak_task_1985 = export_image(JAK_pop1985, 'JAK_POP_population_1985_GHSL', JAK_rec_roi) \n",
    "\n",
    "# check task status\n",
    "tasks = [ jak_task_2000] #, jak_task_2020, jak_task_1985\n",
    "for task in tasks: \n",
    "    if task: \n",
    "        print(f'Task {task.status()[\"id\"]} is {task.status()[\"state\"]}')\n",
    "    else:\n",
    "        print('Task failed')"
   ]
  },
  {
   "cell_type": "code",
   "execution_count": 20,
   "metadata": {},
   "outputs": [
    {
     "data": {
      "text/html": [
       "\n",
       "            <style>\n",
       "                .geemap-dark {\n",
       "                    --jp-widgets-color: white;\n",
       "                    --jp-widgets-label-color: white;\n",
       "                    --jp-ui-font-color1: white;\n",
       "                    --jp-layout-color2: #454545;\n",
       "                    background-color: #383838;\n",
       "                }\n",
       "\n",
       "                .geemap-dark .jupyter-button {\n",
       "                    --jp-layout-color3: #383838;\n",
       "                }\n",
       "\n",
       "                .geemap-colab {\n",
       "                    background-color: var(--colab-primary-surface-color, white);\n",
       "                }\n",
       "\n",
       "                .geemap-colab .jupyter-button {\n",
       "                    --jp-layout-color3: var(--colab-primary-surface-color, white);\n",
       "                }\n",
       "            </style>\n",
       "            "
      ],
      "text/plain": [
       "<IPython.core.display.HTML object>"
      ]
     },
     "metadata": {},
     "output_type": "display_data"
    },
    {
     "data": {
      "text/plain": [
       "<Task VTLTN4G2SCVBPMALBULE5BPQ Type.EXPORT_IMAGE: JAK_ENV_Sentinel2_2023 (State.UNSUBMITTED)>"
      ]
     },
     "execution_count": 20,
     "metadata": {},
     "output_type": "execute_result"
    }
   ],
   "source": [
    "export_image(, ', roi)\n",
    "\n"
   ]
  },
  {
   "cell_type": "code",
   "execution_count": 65,
   "metadata": {},
   "outputs": [
    {
     "data": {
      "text/html": [
       "\n",
       "            <style>\n",
       "                .geemap-dark {\n",
       "                    --jp-widgets-color: white;\n",
       "                    --jp-widgets-label-color: white;\n",
       "                    --jp-ui-font-color1: white;\n",
       "                    --jp-layout-color2: #454545;\n",
       "                    background-color: #383838;\n",
       "                }\n",
       "                    \n",
       "                .geemap-dark .jupyter-button {\n",
       "                    --jp-layout-color3: #383838;\n",
       "                }\n",
       "                \n",
       "                .geemap-colab {\n",
       "                    background-color: var(--colab-primary-surface-color, white);\n",
       "                }\n",
       "                    \n",
       "                .geemap-colab .jupyter-button {\n",
       "                    --jp-layout-color3: var(--colab-primary-surface-color, white);\n",
       "                }\n",
       "            </style>\n",
       "            "
      ],
      "text/plain": [
       "<IPython.core.display.HTML object>"
      ]
     },
     "metadata": {},
     "output_type": "display_data"
    }
   ],
   "source": [
    "task = ee.batch.Export.image.toDrive(\n",
    "    image=composite,\n",
    "    description='image_export_crstransform',\n",
    "    folder='data',\n",
    "    region=rec_roi,\n",
    "    crsTransform=projection['transform'],\n",
    "    crs=projection['crs'],\n",
    "    maxPixels=1e13,\n",
    "    formatOptions={\n",
    "        'cloudOptimized': True\n",
    "    }\n",
    ")\n",
    "task.start()"
   ]
  },
  {
   "cell_type": "code",
   "execution_count": 77,
   "metadata": {},
   "outputs": [
    {
     "data": {
      "text/html": [
       "\n",
       "            <style>\n",
       "                .geemap-dark {\n",
       "                    --jp-widgets-color: white;\n",
       "                    --jp-widgets-label-color: white;\n",
       "                    --jp-ui-font-color1: white;\n",
       "                    --jp-layout-color2: #454545;\n",
       "                    background-color: #383838;\n",
       "                }\n",
       "                    \n",
       "                .geemap-dark .jupyter-button {\n",
       "                    --jp-layout-color3: #383838;\n",
       "                }\n",
       "                \n",
       "                .geemap-colab {\n",
       "                    background-color: var(--colab-primary-surface-color, white);\n",
       "                }\n",
       "                    \n",
       "                .geemap-colab .jupyter-button {\n",
       "                    --jp-layout-color3: var(--colab-primary-surface-color, white);\n",
       "                }\n",
       "            </style>\n",
       "            "
      ],
      "text/plain": [
       "<IPython.core.display.HTML object>"
      ]
     },
     "metadata": {},
     "output_type": "display_data"
    }
   ],
   "source": [
    "#composite = collection.median()\n",
    "cloud_composite = ee.Image(collection.sort('CLOUDY_PIXEL_PERCENTAGE').first())\n",
    "\n",
    "# Display the results.\n",
    "Map.addLayer(cloud_composite, {'bands': ['B4', 'B3', 'B2'], 'min': 0, 'max': 0.3}, 'RGB')\n",
    "Map"
   ]
  },
  {
   "cell_type": "code",
   "execution_count": null,
   "metadata": {},
   "outputs": [],
   "source": [
    "# Add Earth Engine dataset\n",
    "collection = ee.ImageCollection('USDA/NAIP/DOQQ')\n",
    "\n",
    "polys = ee.Geometry.Polygon(\n",
    "        [[[-99.29615020751953, 46.725459351792374],\n",
    "          [-99.2116928100586, 46.72404725733022],\n",
    "          [-99.21443939208984, 46.772037733479884],\n",
    "          [-99.30267333984375, 46.77321343419932]]])\n",
    "\n",
    "centroid = polys.centroid()\n",
    "lng, lat = centroid.getInfo()['coordinates']\n",
    "print(\"lng = {}, lat = {}\".format(lng, lat))\n",
    "\n",
    "lng_lat = ee.Geometry.Point(lng, lat)\n",
    "naip = collection.filterBounds(polys)\n",
    "naip_2015 = naip.filterDate('2015-01-01', '2015-12-31')\n",
    "ppr = naip_2015.mosaic()\n",
    "\n",
    "count = naip_2015.size().getInfo()\n",
    "print(\"Count: \", count)\n",
    "\n",
    "# print(naip_2015.size().getInfo())\n",
    "# vis = {'bands': ['N', 'R', 'G']}\n",
    "# Map.setCenter(lng, lat, 12)\n",
    "# Map.addLayer(ppr,vis)\n",
    "# Map.addLayer(polys)\n",
    "\n",
    "downConfig = {'scale': 30, \"maxPixels\": 1.0E13, 'driveFolder': 'image'}  # scale means resolution.\n",
    "img_lst = naip_2015.toList(100)\n",
    "\n",
    "for i in range(0, count):\n",
    "    image = ee.Image(img_lst.get(i))\n",
    "    name = image.get('system:index').getInfo()\n",
    "    # print(name)\n",
    "    task = ee.batch.Export.image(image, name, downConfig)\n",
    "    task.start()"
   ]
  },
  {
   "cell_type": "code",
   "execution_count": 67,
   "metadata": {},
   "outputs": [
    {
     "data": {
      "text/html": [
       "\n",
       "            <style>\n",
       "                .geemap-dark {\n",
       "                    --jp-widgets-color: white;\n",
       "                    --jp-widgets-label-color: white;\n",
       "                    --jp-ui-font-color1: white;\n",
       "                    --jp-layout-color2: #454545;\n",
       "                    background-color: #383838;\n",
       "                }\n",
       "                    \n",
       "                .geemap-dark .jupyter-button {\n",
       "                    --jp-layout-color3: #383838;\n",
       "                }\n",
       "                \n",
       "                .geemap-colab {\n",
       "                    background-color: var(--colab-primary-surface-color, white);\n",
       "                }\n",
       "                    \n",
       "                .geemap-colab .jupyter-button {\n",
       "                    --jp-layout-color3: var(--colab-primary-surface-color, white);\n",
       "                }\n",
       "            </style>\n",
       "            "
      ],
      "text/plain": [
       "<IPython.core.display.HTML object>"
      ]
     },
     "metadata": {},
     "output_type": "display_data"
    }
   ],
   "source": [
    "# Export the images as a mosaic in TIFF format\n",
    "export_path = '../../data/raw/sentinel2_mosaic/'\n",
    "export_image = ee.ImageCollection(composite).mosaic()\n",
    "task = ee.batch.Export.image.toDrive(\n",
    "    image=export_image,\n",
    "    description='Mosaic Export',\n",
    "    folder=export_path,\n",
    "    scale=10,\n",
    "    fileFormat='GeoTIFF'\n",
    ")\n",
    "task.start()"
   ]
  }
 ],
 "metadata": {
  "kernelspec": {
   "display_name": "Python 3",
   "language": "python",
   "name": "python3"
  },
  "language_info": {
   "codemirror_mode": {
    "name": "ipython",
    "version": 3
   },
   "file_extension": ".py",
   "mimetype": "text/x-python",
   "name": "python",
   "nbconvert_exporter": "python",
   "pygments_lexer": "ipython3",
   "version": "3.12.3"
  }
 },
 "nbformat": 4,
 "nbformat_minor": 2
}
