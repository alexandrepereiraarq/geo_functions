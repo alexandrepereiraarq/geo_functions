{
 "cells": [
  {
   "cell_type": "markdown",
   "metadata": {},
   "source": [
    "# init\n",
    "@author: Alexandre Pereira Santos <br>\n",
    "alexandre.santos(at)lmu.de\n",
    "\n",
    "## Tasks\n",
    "- get OpenStreetMap data using the osmnx functionalities in the Overpass API\n",
    "- get boundary='administrative' and admin_level=10\n",
    "- clip it to an AOI\n",
    "\n",
    "## Prerequisites\n",
    "- have osmnx and geopandas installed\n",
    "- have an AOI saved as a vector (shapefile or geopackage)"
   ]
  },
  {
   "cell_type": "code",
   "execution_count": null,
   "metadata": {},
   "outputs": [],
   "source": [
    "import osmnx as ox\n",
    "import geopandas as gpd\n",
    "from pathlib import Path"
   ]
  },
  {
   "cell_type": "markdown",
   "metadata": {},
   "source": [
    "# imports"
   ]
  },
  {
   "cell_type": "code",
   "execution_count": null,
   "metadata": {},
   "outputs": [],
   "source": [
    "#import the AOI\n",
    "AOI_path = Path('../data/processed/')\n",
    "AOI_file = 'MUM_LIM_BoundingBox_AOI_A.shp'\n",
    "AOI_gdf = gpd.read_file(AOI_path / AOI_file)"
   ]
  },
  {
   "cell_type": "code",
   "execution_count": null,
   "metadata": {},
   "outputs": [],
   "source": [
    "#bounds provides minx, miny, maxx, maxy\n",
    "aoi_coords = AOI_gdf.to_crs(epsg='4326').envelope\n",
    "bbox_df = gpd.GeoDataFrame(geometry=aoi_coords)\n",
    "print('N',aoi_coords.bounds.values[0][3],'S',aoi_coords.bounds.values[0][1],'W',aoi_coords.bounds.values[0][0],'E',aoi_coords.bounds.values[0][2])"
   ]
  },
  {
   "cell_type": "code",
   "execution_count": null,
   "metadata": {},
   "outputs": [],
   "source": [
    "# get admin polygons for neighbourhoods in the AOI\n",
    "# List key-value pairs for tags\n",
    "# - get boundary='administrative' and admin_level=10\n",
    "tags = {'boundary': ['administrative']} # see https://wiki.openstreetmap.org/wiki/Key:place for more info\n",
    "col_list = ['osmid','name','geometry', 'admin_level','place'] #OSM has hundreds of cols, we just want a few. For info, check roads.columns'source',,'surface'\n",
    "\n",
    "places = ox.features_from_bbox(north=aoi_coords.bounds.values[0][3],\n",
    "                              south=aoi_coords.bounds.values[0][1],\n",
    "                              west=aoi_coords.bounds.values[0][0],\n",
    "                              east=aoi_coords.bounds.values[0][2],\n",
    "                              tags=tags)\n",
    "places.reset_index(inplace=True)\n",
    "\n",
    "#filtering out the wrong geometries (POLYGON or POINT) and element types (NODE)\n",
    "places = places.loc[(places.geometry.type=='Polygon')&(places.admin_level.notna()), col_list] #&(places.element_type == 'way') \n",
    "#convert the CRS of roads to the same as AOI\n",
    "places.to_crs(AOI_gdf.crs,inplace=True)\n",
    "\n",
    "#plot them\n",
    "places.plot('name',ax=AOI_gdf.plot(figsize=(10, 10),  alpha=0.5, color='lightgray'),cmap='Paired', zorder=2) #linewidth=1,"
   ]
  },
  {
   "cell_type": "code",
   "execution_count": null,
   "metadata": {},
   "outputs": [],
   "source": [
    "places['admin_level'].sort_values().unique()"
   ]
  },
  {
   "cell_type": "code",
   "execution_count": null,
   "metadata": {},
   "outputs": [],
   "source": [
    "places"
   ]
  },
  {
   "cell_type": "code",
   "execution_count": null,
   "metadata": {},
   "outputs": [],
   "source": [
    "places.columns\n",
    "#.to_file('../data/processed/LIM_rs_floods_2024_guaiba_neighbourhoods_A.shp')"
   ]
  },
  {
   "cell_type": "code",
   "execution_count": null,
   "metadata": {},
   "outputs": [],
   "source": [
    "places.type.unique()"
   ]
  },
  {
   "cell_type": "markdown",
   "metadata": {},
   "source": [
    "# export"
   ]
  },
  {
   "cell_type": "code",
   "execution_count": null,
   "metadata": {},
   "outputs": [],
   "source": [
    "#export places to a shapefile\n",
    "export_path = Path('../data/processed/')\n",
    "places.to_file(AOI_path / 'MUM_LIM_MMR_municipalities_A.shp')"
   ]
  }
 ],
 "metadata": {
  "kernelspec": {
   "display_name": "Python 3",
   "language": "python",
   "name": "python3"
  },
  "language_info": {
   "codemirror_mode": {
    "name": "ipython",
    "version": 3
   },
   "file_extension": ".py",
   "mimetype": "text/x-python",
   "name": "python",
   "nbconvert_exporter": "python",
   "pygments_lexer": "ipython3",
   "version": "3.11.9"
  }
 },
 "nbformat": 4,
 "nbformat_minor": 2
}
