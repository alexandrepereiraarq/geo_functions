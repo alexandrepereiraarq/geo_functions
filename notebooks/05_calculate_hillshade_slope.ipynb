{
 "cells": [
  {
   "cell_type": "markdown",
   "metadata": {},
   "source": [
    "# init"
   ]
  },
  {
   "cell_type": "code",
   "execution_count": null,
   "metadata": {},
   "outputs": [],
   "source": [
    "import rasterio\n",
    "from rasterio.plot import show\n",
    "from rasterio.mask import mask\n",
    "import matplotlib.pyplot as plt\n",
    "from pathlib import Path\n",
    "import geopandas as gpd\n",
    "import numpy as np\n",
    "from rasterio.transform import from_origin\n",
    "import earthpy as et\n",
    "import earthpy.spatial as es\n",
    "import earthpy.plot as eps"
   ]
  },
  {
   "cell_type": "code",
   "execution_count": null,
   "metadata": {},
   "outputs": [],
   "source": [
    "# slope function \n",
    "def slope(array):\n",
    "    x, y = np.gradient(array)\n",
    "    #APS: I am really not sure why this is here, need to check the math\n",
    "    #slope in percent\n",
    "    #slope_pct = np.sqrt(x*x + y*y)\n",
    "    slope = np.pi/2. - np.arctan(np.sqrt(x*x + y*y))\n",
    "    return slope"
   ]
  },
  {
   "cell_type": "markdown",
   "metadata": {},
   "source": [
    "# input"
   ]
  },
  {
   "cell_type": "code",
   "execution_count": null,
   "metadata": {},
   "outputs": [],
   "source": [
    "#input a raster file\n",
    "raster_path = Path('../data/raw/')\n",
    "\n",
    "raster_file = 'JAK_DEM_elevation_TanDEM_X_30m.tif'\n",
    "in_raster = rasterio.open(raster_path/raster_file)\n",
    "\n",
    "AOI_path = Path('../data/processed/')\n",
    "AOI_file = 'JAK_LIM_BoundingBox_AOI_A.shp'\n",
    "\n",
    "AOI_gdf = gpd.read_file(AOI_path/AOI_file)\n",
    "print('AOI:', AOI_gdf.crs.to_epsg(),'Raster:', in_raster.crs)"
   ]
  },
  {
   "cell_type": "code",
   "execution_count": null,
   "metadata": {},
   "outputs": [],
   "source": [
    "# calculate hillshade with earthpy\n",
    "dem = in_raster.read(1)\n",
    "\n",
    "#with help from [Charlotta Mirbach](https://github.com/cmirb/)\n",
    "hillshade = es.hillshade(dem, azimuth=315, altitude=45)\n",
    "eps.plot_bands(\n",
    "    hillshade,\n",
    "    cbar=False,\n",
    "    title=\"Jakarta Hillshade\",\n",
    "    figsize=(10, 8)\n",
    ")\n",
    "\n",
    "plt.show()"
   ]
  },
  {
   "cell_type": "code",
   "execution_count": null,
   "metadata": {},
   "outputs": [],
   "source": [
    "# export hillshade\n",
    "\n",
    "#setting up the output file\n",
    "out_path = Path('../data/processed/')\n",
    "out_file = 'JAK_DEM_hillshade_TanDEM_X_30m.tif'\n",
    "out_url = out_path/out_file\n",
    "\n",
    "AOI_geom = AOI_gdf.geometry\n",
    "clipped_array, clipped_transform = mask(dataset=hillshade, shapes=AOI_geom, crop=True, nodata=0, all_touched=True, invert=False) #, pad=False, pad_width=0.5\n",
    "\n",
    "out_meta = in_raster.meta.copy()\n",
    "out_meta.update({\"driver\": \"GTiff\",\n",
    "                 'dtype': rasterio.float32,\n",
    "                 \"height\": clipped_array.shape[1],\n",
    "                 \"width\": clipped_array.shape[2],\n",
    "                 \"transform\": clipped_transform,\n",
    "                 \"nodata\": 0})  \n",
    "\n",
    "with rasterio.open(out_url, \"w\", **out_meta) as dest:\n",
    "    dest.write(hillshade)"
   ]
  },
  {
   "cell_type": "code",
   "execution_count": null,
   "metadata": {},
   "outputs": [],
   "source": [
    "#calculate slope with earthpy\n",
    "\n",
    "slope_raster = slope(in_raster.read(1))\n",
    "\n",
    "#exporting the raster\n",
    "out_path = raster_path\n",
    "out_file = 'JAK_DEM_slope_TanDEM_X_30m.tif'\n",
    "out_url = out_path/out_file\n",
    "with rasterio.open(out_url, \"w\", driver='GTiff',\n",
    "                    height = in_raster.shape[0], width=in_raster.shape[1],\n",
    "                    count=1, dtype=list(in_raster.dtypes)[0],\n",
    "                    crs=in_raster.crs, transform = in_raster.transform) as dest:\n",
    "        dest.write(slope_raster, indexes=1)\n",
    "show(slope_raster)"
   ]
  }
 ],
 "metadata": {
  "kernelspec": {
   "display_name": "Python 3",
   "language": "python",
   "name": "python3"
  },
  "language_info": {
   "codemirror_mode": {
    "name": "ipython",
    "version": 3
   },
   "file_extension": ".py",
   "mimetype": "text/x-python",
   "name": "python",
   "nbconvert_exporter": "python",
   "pygments_lexer": "ipython3",
   "version": "3.12.3"
  }
 },
 "nbformat": 4,
 "nbformat_minor": 2
}
