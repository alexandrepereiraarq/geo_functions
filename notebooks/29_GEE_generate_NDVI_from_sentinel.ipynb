{
 "cells": [
  {
   "cell_type": "markdown",
   "metadata": {},
   "source": [
    "### Authorship\n",
    "@author: Alexandre Pereira Santos <br>\n",
    "alexandre.santos(at)lmu.de<br>\n",
    "- many scripts in this notebook com from geemap (see below)\n",
    "\n",
    "### Tasks\n",
    "- get Global Human Settlement Layer population estimates data using the Google Earth Engine functionalities\n",
    "- clip it to an AOI\n",
    "\n",
    "### Prerequisites\n",
    "- earth engine api (ee) https://developers.google.com/earth-engine/apidocs\n",
    "- gee map (gee), https://geemap.org/ by Qiusheng Wu\n",
    "- create an account and a Google Cloud project in Google Developer, see here: https://developers.google.com/earth-engine/guides/auth\n",
    "\n",
    "# init"
   ]
  },
  {
   "cell_type": "code",
   "execution_count": null,
   "metadata": {},
   "outputs": [],
   "source": [
    "import ee\n",
    "import geemap\n",
    "from pathlib import Path\n",
    "import geopandas as gpd\n",
    "import matplotlib.pyplot as plt\n",
    "import logging\n",
    "# extract coordinates from the bounding box\n",
    "def get_coords(gdf):\n",
    "    coords = gdf.to_crs(epsg='4326').envelope\n",
    "    epsg_coords = coords.crs.to_epsg()\n",
    "    transform = [coords.bounds.values[0][0], coords.bounds.values[0][1], coords.bounds.values[0][2], coords.bounds.values[0][3]]\n",
    "    roi = ee.Geometry.BBox(west=transform[0], south=transform[1], east=transform[2], north=transform[3])\n",
    "    rec_roi = ee.Geometry.Rectangle(transform[0],transform[1],transform[2],transform[3])\n",
    "    coi = roi.centroid(maxError=1)\n",
    "    return epsg_coords, roi, rec_roi, coi\n"
   ]
  },
  {
   "cell_type": "code",
   "execution_count": null,
   "metadata": {},
   "outputs": [],
   "source": [
    "# Authenticate and initialize Earth Engine\n",
    "ee.Authenticate()\n",
    "ee.Initialize(project='') # Replace with your GEE project\n",
    "print(ee.__version__)"
   ]
  },
  {
   "cell_type": "code",
   "execution_count": null,
   "metadata": {},
   "outputs": [],
   "source": [
    "# check if the authentication is working\n",
    "print(ee.Image(\"JRC/GHSL/P2023A/GHS_POP/1975\").getInfo())"
   ]
  },
  {
   "cell_type": "markdown",
   "metadata": {},
   "source": [
    "# imports"
   ]
  },
  {
   "cell_type": "code",
   "execution_count": null,
   "metadata": {},
   "outputs": [],
   "source": [
    "#input a vector and a raster file\n",
    "AOI_path = Path('../data/processed/')\n",
    "\n",
    "AOI_file_JAK = 'JAK_LIM_BoundingBox_AOI_A.shp' #Jakarta\n",
    "AOI_file_MUM = 'MUM_LIM_BoundingBox_AOI_A.shp' #Mumbai\n",
    "AOI_file_MAN = 'MAN_LIM_BoundingBox_AOI_A.shp' #Manila\n",
    "\n",
    "#read the vector files\n",
    "AOI_gdf_JAK = gpd.read_file(AOI_path/AOI_file_JAK).to_crs(epsg=4326)\n",
    "AOI_gdf_MUM = gpd.read_file(AOI_path/AOI_file_MUM).to_crs(epsg=4326)\n",
    "AOI_gdf_MAN = gpd.read_file(AOI_path/AOI_file_MAN).to_crs(epsg=4326)\n",
    "\n",
    "# get the coordinates\n",
    "JAK_aoi_crs, JAK_roi, JAK_rec_roi, JAK_coi = get_coords(AOI_gdf_JAK)\n",
    "MUM_aoi_crs, MUM_roi, MUM_rec_roi, MUM_coi = get_coords(AOI_gdf_MUM)\n",
    "MAN_aoi_crs, MAN_roi, MAN_rec_roi, MAN_coi = get_coords(AOI_gdf_MAN)\n",
    "\n",
    "print(JAK_aoi_crs,MUM_aoi_crs,MAN_aoi_crs)"
   ]
  },
  {
   "cell_type": "markdown",
   "metadata": {},
   "source": [
    "# get"
   ]
  },
  {
   "cell_type": "code",
   "execution_count": null,
   "metadata": {},
   "outputs": [],
   "source": [
    "# methods from https://www.geo.fu-berlin.de/en/v/geo-it/gee/2-monitoring-ndvi-nbr/2-2-calculating-indices/ndvi-s2/index.html\n",
    "\n",
    "def roi_ndvi(aoi_gdf):\n",
    "    aoi_coords = aoi_gdf.to_crs(epsg='4326').envelope\n",
    "    #print('N',aoi_coords.bounds.values[0][3],'S',aoi_coords.bounds.values[0][1],'W',aoi_coords.bounds.values[0][0],'E',aoi_coords.bounds.values[0][2])\n",
    "    transform = [aoi_coords.bounds.values[0][0], aoi_coords.bounds.values[0][1], aoi_coords.bounds.values[0][2], aoi_coords.bounds.values[0][3]]\n",
    "    roi = ee.Geometry.BBox(west=transform[0], south=transform[1], east=transform[2], north=transform[3])\n",
    "    \n",
    "    s2=ee.ImageCollection(\"COPERNICUS/S2_SR_HARMONIZED\").filterBounds(roi).filterDate('2020-01-01', '2020-12-31').filter(ee.Filter.lt('CLOUDY_PIXEL_PERCENTAGE', 7)).median()\n",
    "    # Use median to reduce noise and clouds\n",
    "\n",
    "    # Calculate NDVI\n",
    "    ndvi = s2.normalizedDifference(['B8', 'B4']).rename('NDVI')  \n",
    "\n",
    "    return ndvi"
   ]
  },
  {
   "cell_type": "code",
   "execution_count": null,
   "metadata": {},
   "outputs": [],
   "source": [
    "JAK_ndvi = roi_ndvi(AOI_gdf_JAK)\n",
    "\n",
    "# Define visualization parameters\n",
    "ndviParams = {min: 0,max: 1,'palette': ['blue', 'white', 'green']}\n",
    "\n",
    "Map = geemap.Map()\n",
    "# Visualize the NDVI\n",
    "Map.centerObject(JAK_roi, 10)\n",
    "Map.addLayer(JAK_ndvi.clip(JAK_roi), ndviParams, 'NDVI')\n",
    "Map"
   ]
  },
  {
   "cell_type": "code",
   "execution_count": null,
   "metadata": {},
   "outputs": [],
   "source": [
    "MUM_ndvi = roi_ndvi(AOI_gdf_MUM)\n",
    "\n",
    "# Define visualization parameters\n",
    "ndviParams = {min: 0,max: 1,'palette': ['blue', 'white', 'green']}\n",
    "\n",
    "Map = geemap.Map()\n",
    "# Visualize the NDVI\n",
    "Map.centerObject(MUM_roi, 10)\n",
    "Map.addLayer(MUM_ndvi.clip(MUM_roi), ndviParams, 'NDVI')\n",
    "Map"
   ]
  },
  {
   "cell_type": "code",
   "execution_count": null,
   "metadata": {},
   "outputs": [],
   "source": [
    "MAN_ndvi = roi_ndvi(AOI_gdf_MAN)\n",
    "\n",
    "# Define visualization parameters\n",
    "ndviParams = {min: 0,max: 1,'palette': ['blue', 'white', 'green']}\n",
    "\n",
    "Map = geemap.Map()\n",
    "# Visualize the NDVI\n",
    "Map.centerObject(MAN_roi, 10)\n",
    "Map.addLayer(MAN_ndvi.clip(MAN_roi), ndviParams, 'NDVI')\n",
    "Map"
   ]
  },
  {
   "cell_type": "code",
   "execution_count": null,
   "metadata": {},
   "outputs": [],
   "source": [
    "# define a function that exports the image to Google Drive\n",
    "def export_image(image, filename, roi): #crs, projection, removed these arguments as they caused a resampling error\n",
    "    try: \n",
    "        task = ee.batch.Export.image.toDrive(\n",
    "            image=image,\n",
    "            description=filename,\n",
    "            folder='gee_exports',\n",
    "            region=roi,\n",
    "            #crs=crs,\n",
    "            #crsTransform=projection['transform'],\n",
    "            maxPixels=1e13,\n",
    "            fileFormat='GeoTIFF',\n",
    "            formatOptions={\n",
    "                'cloudOptimized': False\n",
    "            }\n",
    "        )\n",
    "        task.start()\n",
    "        logging.info(f'Exporting {filename} to Google Drive')\n",
    "        return task\n",
    "    except Exception as e:\n",
    "        logging.error(f'An error has occurred: {e}')\n",
    "        return None\n",
    "\n",
    "# check image stats before export\n",
    "def check_image_stats(image, roi): \n",
    "    stats = image.reduceRegion(\n",
    "        reducer=ee.Reducer.minMax(),\n",
    "        geometry=roi,\n",
    "        scale=250,\n",
    "        maxPixels=1e9       \n",
    "    )\n",
    "    return stats.getInfo()\n"
   ]
  },
  {
   "cell_type": "code",
   "execution_count": null,
   "metadata": {},
   "outputs": [],
   "source": [
    "JAK_ndvi_clip = JAK_ndvi.clip(JAK_rec_roi)\n",
    "MUM_ndvi_clip = MUM_ndvi.clip(MUM_rec_roi)\n",
    "MAN_ndvi_clip = MAN_ndvi.clip(MAN_rec_roi)\n",
    "print('JAK_NDVI stats:', check_image_stats(JAK_ndvi_clip, JAK_rec_roi))\n",
    "print('MUM_NDVI stats:', check_image_stats(MUM_ndvi_clip, MUM_rec_roi))\n",
    "print('MAN_NDVI stats:', check_image_stats(MAN_ndvi_clip, MAN_rec_roi))\n"
   ]
  },
  {
   "cell_type": "code",
   "execution_count": null,
   "metadata": {},
   "outputs": [],
   "source": [
    "# define a function that exports the image to Google Drive\n",
    "def gee_to_tiff(input_layer, output_filename, roi):\n",
    "    out_folder = 'gee_exports'\n",
    "    #projection = input_layer.projection().getInfo()\n",
    "    \n",
    "    try:\n",
    "        task = geemap.ee_export_image_to_drive(\n",
    "            input_layer,\n",
    "            description=output_filename,\n",
    "            folder=out_folder,\n",
    "            maxPixels=1e13, #ressamples to a low resolution\n",
    "            region = roi,\n",
    "            #crs = projection['crs'],\n",
    "            fileFormat = 'GeoTIFF',\n",
    "            scale = 10           \n",
    "        )\n",
    "        #task.start()\n",
    "        logging.info(f'Exporting {output_filename} to Google Drive')\n",
    "        return task \n",
    "    except Exception as e:\n",
    "        logging.error(f'An error has occurred: {e}')\n",
    "        return None"
   ]
  },
  {
   "cell_type": "markdown",
   "metadata": {},
   "source": [
    "# export"
   ]
  },
  {
   "cell_type": "code",
   "execution_count": null,
   "metadata": {},
   "outputs": [],
   "source": [
    "input_layer = MUM_ndvi_clip\n",
    "output_filename = 'MUM_ENV_NDVI_Sentinel2_2020'\n",
    "roi = MUM_rec_roi\n",
    "out_folder = 'gee_exports'\n",
    "\n",
    "export = geemap.ee_export_image_to_drive(\n",
    "            input_layer,\n",
    "            description=output_filename,\n",
    "            folder=out_folder,\n",
    "            maxPixels=1e13, #ressamples to a low resolution\n",
    "            region = roi,\n",
    "            crs = 'EPSG:4326',\n",
    "            fileFormat = 'GeoTIFF',\n",
    "            scale = 10           \n",
    "        )"
   ]
  },
  {
   "cell_type": "code",
   "execution_count": null,
   "metadata": {},
   "outputs": [],
   "source": [
    "JAK_task = gee_to_tiff(JAK_ndvi_clip, 'JAK_ENV_NDVI_Sentinel2_2000', JAK_rec_roi) \n",
    "MUM_task = gee_to_tiff(MUM_ndvi_clip, 'MUM_ENV_NDVI_Sentinel2_2000', MUM_rec_roi) \n",
    "MAN_task = gee_to_tiff(MAN_ndvi_clip, 'MAN_ENV_NDVI_Sentinel2_2000', MAN_rec_roi) \n",
    "\n",
    "# check task status\n",
    "tasks = [JAK_task, MUM_task, MAN_task]\n",
    "for task in tasks: \n",
    "    if task: \n",
    "        print(f'Task {task.status()[\"id\"]} is {task.status()[\"state\"]}')\n",
    "    else:\n",
    "        print('Task failed')\n"
   ]
  }
 ],
 "metadata": {
  "kernelspec": {
   "display_name": "Python 3",
   "language": "python",
   "name": "python3"
  },
  "language_info": {
   "codemirror_mode": {
    "name": "ipython",
    "version": 3
   },
   "file_extension": ".py",
   "mimetype": "text/x-python",
   "name": "python",
   "nbconvert_exporter": "python",
   "pygments_lexer": "ipython3",
   "version": "3.12.3"
  }
 },
 "nbformat": 4,
 "nbformat_minor": 2
}
