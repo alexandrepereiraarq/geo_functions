{
 "cells": [
  {
   "cell_type": "markdown",
   "metadata": {},
   "source": [
    "# init\n",
    "@author: Alexandre Pereira Santos <br>\n",
    "alexandre.santos(at)lmu.de\n",
    "\n",
    "## Tasks\n",
    "- get OpenStreetMap data using the osmnx functionalities in the Overpass API\n",
    "- clip it to an AOI\n",
    "\n",
    "## Prerequisites\n",
    "- have osmnx and geopandas installed\n",
    "- have an AOI saved as a vector (shapefile or geopackage)"
   ]
  },
  {
   "cell_type": "code",
   "execution_count": null,
   "metadata": {},
   "outputs": [],
   "source": [
    "import osmnx as ox\n",
    "import geopandas as gpd\n",
    "from pathlib import Path\n",
    "import pandas as pd"
   ]
  },
  {
   "cell_type": "markdown",
   "metadata": {},
   "source": [
    "# imports"
   ]
  },
  {
   "cell_type": "code",
   "execution_count": null,
   "metadata": {},
   "outputs": [],
   "source": [
    "#import the AOI\n",
    "AOI_path = Path('../data/processed/')\n",
    "AOI_file = 'JAK_LIM_BoundingBox_AOI_A.shp'\n",
    "AOI_gdf = gpd.read_file(AOI_path / AOI_file)\n",
    "\n",
    "#bounds provides minx, miny, maxx, maxy\n",
    "aoi_coords = AOI_gdf.to_crs(epsg='4326').envelope\n",
    "bbox_df = gpd.GeoDataFrame(geometry=aoi_coords)\n",
    "print('N',aoi_coords.bounds.values[0][3],'S',aoi_coords.bounds.values[0][1],'W',aoi_coords.bounds.values[0][0],'E',aoi_coords.bounds.values[0][2])"
   ]
  },
  {
   "cell_type": "code",
   "execution_count": null,
   "metadata": {},
   "outputs": [],
   "source": [
    "#get green areas  features from OSM\n",
    "dict_tags = {\n",
    "    'landuse': {'landuse': ['forest', 'meadow', 'grass', 'allotments', 'recreation_ground', 'village_green', 'cemetery',\n",
    "                'orchard', 'vineyard', 'plant_nursery', 'farmland', 'farmyard', 'farm', 'grassland', 'greenfield']},\n",
    "    'natural': {'natural': ['wood', 'tree', 'scrub', 'heath', 'moor', 'grassland', 'fell', 'bare_rock', 'scree', 'shingle']},\n",
    "    'leisure': {'leisure': ['park', 'garden', 'golf_course', 'playground', 'sports_centre', 'stadium', 'pitch', 'recreation_ground', \n",
    "                'common', 'village_green', 'dog_park', 'nature_reserve', 'wildlife_hide', 'bird_hide']},\n",
    "    'tourism':{'tourism':['camp_site']},\n",
    "    'boundary': {'boundary': ['national_park', 'protected_area']}\n",
    "    }\n",
    "# List key-value pairs for tags\n",
    "green_areas_1 = ox.features_from_bbox(north=aoi_coords.bounds.values[0][3],\n",
    "                                      south=aoi_coords.bounds.values[0][1],\n",
    "                                      west=aoi_coords.bounds.values[0][0],\n",
    "                                      east=aoi_coords.bounds.values[0][2],\n",
    "                                      tags=dict_tags['landuse'])\n",
    "green_areas_2 = ox.features_from_bbox(north=aoi_coords.bounds.values[0][3],\n",
    "                                      south=aoi_coords.bounds.values[0][1],\n",
    "                                      west=aoi_coords.bounds.values[0][0],\n",
    "                                      east=aoi_coords.bounds.values[0][2],\n",
    "                                      tags=dict_tags['natural'])\n",
    "green_areas_3 = ox.features_from_bbox(north=aoi_coords.bounds.values[0][3],\n",
    "                                      south=aoi_coords.bounds.values[0][1],\n",
    "                                      west=aoi_coords.bounds.values[0][0],\n",
    "                                      east=aoi_coords.bounds.values[0][2],\n",
    "                                      tags=dict_tags['leisure'])\n",
    "green_areas_4 = ox.features_from_bbox(north=aoi_coords.bounds.values[0][3],\n",
    "                                      south=aoi_coords.bounds.values[0][1],\n",
    "                                      west=aoi_coords.bounds.values[0][0],\n",
    "                                      east=aoi_coords.bounds.values[0][2],\n",
    "                                      tags=dict_tags['tourism'])\n",
    "green_areas_5 = ox.features_from_bbox(north=aoi_coords.bounds.values[0][3],\n",
    "                                      south=aoi_coords.bounds.values[0][1],\n",
    "                                      west=aoi_coords.bounds.values[0][0],\n",
    "                                      east=aoi_coords.bounds.values[0][2],\n",
    "                                      tags=dict_tags['boundary'])\n",
    "    \n",
    "col_list = ['osmid','geometry','element_type', 'name'] #OSM has hundreds of cols, we just want a few. \n",
    "green_areas_1.reset_index(inplace=True)\n",
    "green_areas_2.reset_index(inplace=True)\n",
    "green_areas_3.reset_index(inplace=True)\n",
    "green_areas_4.reset_index(inplace=True)\n",
    "green_areas_5.reset_index(inplace=True)\n",
    "\n",
    "#filtering out the wrong geometries (Polyline or Point) \n",
    "green_areas_1 = green_areas_1.loc[(green_areas_1.geometry.type=='Polygon'), col_list] #&(water_linear.element_type == 'way') , col_list\n",
    "green_areas_2 = green_areas_2.loc[(green_areas_2.geometry.type=='Polygon'), col_list]\n",
    "green_areas_3 = green_areas_3.loc[(green_areas_3.geometry.type=='Polygon'), col_list]\n",
    "green_areas_4 = green_areas_4.loc[(green_areas_4.geometry.type=='Polygon'), col_list]\n",
    "green_areas_5 = green_areas_5.loc[(green_areas_5.geometry.type=='Polygon'), col_list]\n",
    "\n",
    "#convert the CRS of roads to the same as AOI\n",
    "green_areas_1.to_crs(AOI_gdf.crs,inplace=True)\n",
    "green_areas_2.to_crs(AOI_gdf.crs,inplace=True)\n",
    "green_areas_3.to_crs(AOI_gdf.crs,inplace=True)\n",
    "green_areas_4.to_crs(AOI_gdf.crs,inplace=True)\n",
    "green_areas_5.to_crs(AOI_gdf.crs,inplace=True)\n",
    "\n",
    "#merge the dataframes\n",
    "green_areas = pd.concat([green_areas_1,green_areas_2,green_areas_3,green_areas_4,green_areas_5], ignore_index=True)\n",
    "\n",
    "#plot them\n",
    "green_areas.plot(ax=AOI_gdf.plot(figsize=(10, 10),  alpha=0.5, color='lightgray'),cmap='Paired', linewidth=1, zorder=2) \n",
    "\n"
   ]
  },
  {
   "cell_type": "code",
   "execution_count": null,
   "metadata": {},
   "outputs": [],
   "source": [
    "#clip using geopandas, the mask is the AOI we imported above\n",
    "green_areas_clipped = gpd.clip(green_areas, mask=AOI_gdf, keep_geom_type=True)\n",
    "green_areas_clipped.plot(ax=AOI_gdf.plot(figsize=(10, 10),  alpha=0.5, color='lightgray'),cmap='Paired', linewidth=1, zorder=2) #'waterway',"
   ]
  },
  {
   "cell_type": "markdown",
   "metadata": {},
   "source": [
    "# export"
   ]
  },
  {
   "cell_type": "code",
   "execution_count": null,
   "metadata": {},
   "outputs": [],
   "source": [
    "#export roads  to a shapefile\n",
    "green_areas_clipped.to_file(AOI_path / 'JAK_ENV_green_areas_OSM_2024_A.shp')"
   ]
  }
 ],
 "metadata": {
  "kernelspec": {
   "display_name": "Python 3",
   "language": "python",
   "name": "python3"
  },
  "language_info": {
   "codemirror_mode": {
    "name": "ipython",
    "version": 3
   },
   "file_extension": ".py",
   "mimetype": "text/x-python",
   "name": "python",
   "nbconvert_exporter": "python",
   "pygments_lexer": "ipython3",
   "version": "3.11.9"
  }
 },
 "nbformat": 4,
 "nbformat_minor": 2
}
