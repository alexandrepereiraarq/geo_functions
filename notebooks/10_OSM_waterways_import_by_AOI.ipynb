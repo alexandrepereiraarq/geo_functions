{
 "cells": [
  {
   "cell_type": "markdown",
   "metadata": {},
   "source": [
    "# init\n",
    "@author: Alexandre Pereira Santos <br>\n",
    "alexandre.santos(at)lmu.de\n",
    "\n",
    "## Tasks\n",
    "- get OpenStreetMap data using the osmnx functionalities in the Overpass API\n",
    "- clip it to an AOI\n",
    "\n",
    "## Prerequisites\n",
    "- have osmnx and geopandas installed\n",
    "- have an AOI saved as a vector (shapefile or geopackage)"
   ]
  },
  {
   "cell_type": "code",
   "execution_count": null,
   "metadata": {},
   "outputs": [],
   "source": [
    "import osmnx as ox\n",
    "import geopandas as gpd\n",
    "from pathlib import Path"
   ]
  },
  {
   "cell_type": "markdown",
   "metadata": {},
   "source": [
    "# imports"
   ]
  },
  {
   "cell_type": "code",
   "execution_count": null,
   "metadata": {},
   "outputs": [],
   "source": [
    "#import the AOI\n",
    "AOI_path = Path('../data/processed/')\n",
    "AOI_file = 'JAK_LIM_BoundingBox_AOI_A.shp'\n",
    "AOI_gdf = gpd.read_file(AOI_path / AOI_file)"
   ]
  },
  {
   "cell_type": "code",
   "execution_count": null,
   "metadata": {},
   "outputs": [],
   "source": [
    "#bounds provides minx, miny, maxx, maxy\n",
    "aoi_coords = AOI_gdf.to_crs(epsg='4326').envelope\n",
    "bbox_df = gpd.GeoDataFrame(geometry=aoi_coords)\n",
    "print('N',aoi_coords.bounds.values[0][3],'S',aoi_coords.bounds.values[0][1],'W',aoi_coords.bounds.values[0][0],'E',aoi_coords.bounds.values[0][2])"
   ]
  },
  {
   "cell_type": "code",
   "execution_count": null,
   "metadata": {},
   "outputs": [],
   "source": [
    "#get waterway linear  features from OSM\n",
    "# List key-value pairs for tags\n",
    "tags = {'waterway': ['river', 'stream', 'tidal_channel', 'canal', 'drain', 'ditch', \n",
    "                     'pressurised','fairway','fish_pass','canoe_pass']} # see full list of classes at https://wiki.openstreetmap.org/wiki/Waterways\n",
    "col_list = ['osmid','waterway','intermittent','usage','geometry'] #OSM has hundreds of cols, we just want a few. \n",
    "\n",
    "water_linear = ox.features_from_bbox(north=aoi_coords.bounds.values[0][3],\n",
    "                              south=aoi_coords.bounds.values[0][1],\n",
    "                              west=aoi_coords.bounds.values[0][0],\n",
    "                              east=aoi_coords.bounds.values[0][2],\n",
    "                              tags=tags)\n",
    "water_linear.reset_index(inplace=True)\n",
    "\n",
    "#filtering out the wrong geometries (POLYGON or POINT) and element types (NODE)\n",
    "water_linear = water_linear.loc[(water_linear.geometry.type=='LineString'), col_list] #&(water_linear.element_type == 'way')\n",
    "#convert the CRS of roads to the same as AOI\n",
    "water_linear.to_crs(AOI_gdf.crs,inplace=True)\n",
    "\n",
    "#plot them\n",
    "water_linear.plot('waterway',ax=AOI_gdf.plot(figsize=(10, 10),  alpha=0.5, color='lightgray'),cmap='Paired', linewidth=1, zorder=2)"
   ]
  },
  {
   "cell_type": "code",
   "execution_count": null,
   "metadata": {},
   "outputs": [],
   "source": [
    "#clip using geopandas, the mask is the AOI we imported above\n",
    "water_clipped_gdf = gpd.clip(water_linear, mask=AOI_gdf, keep_geom_type=True)\n",
    "water_clipped_gdf.plot('waterway',ax=AOI_gdf.plot(figsize=(10, 10),  alpha=0.5, color='lightgray'),cmap='Paired', linewidth=1, zorder=2)"
   ]
  },
  {
   "cell_type": "code",
   "execution_count": null,
   "metadata": {},
   "outputs": [],
   "source": [
    "#get waterway area features from OSM\n",
    "# List key-value pairs for tags\n",
    "tags = {'water': ['lagoon','lake','oxbow','rapids','river','stream','stram_pool',\n",
    "                  'basin','canal', 'ditch', 'fish_pass','harbour', 'lock', 'moat', \n",
    "                  'pond', 'reflecting_pool', 'reservoir', 'wastewater']} # see full list of classes at https://wiki.openstreetmap.org/wiki/Key:water\n",
    "col_list = ['osmid','water','natural','source','geometry','name'] #OSM has hundreds of cols, we just want a few. \n",
    "\n",
    "water_area = ox.features_from_bbox(north=aoi_coords.bounds.values[0][3],\n",
    "                              south=aoi_coords.bounds.values[0][1],\n",
    "                              west=aoi_coords.bounds.values[0][0],\n",
    "                              east=aoi_coords.bounds.values[0][2],\n",
    "                              tags=tags)\n",
    "water_area.reset_index(inplace=True)\n",
    "\n",
    "#filtering out the wrong geometries (POLYGON or POINT) and element types (NODE)\n",
    "water_area = water_area.loc[(water_area.geometry.type=='Polygon'), col_list] #&(water_linear.element_type == 'way')\n",
    "#convert the CRS of roads to the same as AOI\n",
    "water_area.to_crs(AOI_gdf.crs,inplace=True)\n",
    "\n",
    "#plot them\n",
    "water_area.plot('water',ax=AOI_gdf.plot(figsize=(10, 10),  alpha=0.5, color='lightgray'),cmap='Paired', linewidth=1, zorder=2)"
   ]
  },
  {
   "cell_type": "code",
   "execution_count": null,
   "metadata": {},
   "outputs": [],
   "source": [
    "#get waterway area features from OSM\n",
    "# List key-value pairs for tags\n",
    "tags = {'natural': ['water','coastline']} # see full list of classes at https://wiki.openstreetmap.org/wiki/Key:water\n",
    "col_list = ['osmid','water','natural','source','geometry','name'] #OSM has hundreds of cols, we just want a few. \n",
    "\n",
    "water_area = ox.features_from_bbox(north=aoi_coords.bounds.values[0][3],\n",
    "                              south=aoi_coords.bounds.values[0][1],\n",
    "                              west=aoi_coords.bounds.values[0][0],\n",
    "                              east=aoi_coords.bounds.values[0][2],\n",
    "                              tags=tags)\n",
    "water_area.reset_index(inplace=True)\n",
    "\n",
    "#filtering out the wrong geometries (POLYGON or POINT) and element types (NODE)\n",
    "water_area = water_area.loc[(water_area.geometry.type=='Polygon'), col_list] #&(water_linear.element_type == 'way')\n",
    "#convert the CRS of roads to the same as AOI\n",
    "water_area.to_crs(AOI_gdf.crs,inplace=True)\n",
    "\n",
    "#plot them\n",
    "water_area.plot('water',ax=AOI_gdf.plot(figsize=(10, 10),  alpha=0.5, color='lightgray'),cmap='Paired', linewidth=1, zorder=2)"
   ]
  },
  {
   "cell_type": "markdown",
   "metadata": {},
   "source": [
    "# export"
   ]
  },
  {
   "cell_type": "code",
   "execution_count": null,
   "metadata": {},
   "outputs": [],
   "source": [
    "#export roads  to a shapefile\n",
    "water_clipped_gdf.to_file(AOI_path / 'JAK_HYD_waterways_linear_OSM_2024_L.shp')"
   ]
  },
  {
   "cell_type": "code",
   "execution_count": null,
   "metadata": {},
   "outputs": [],
   "source": [
    "#export places to a shapefile\n",
    "water_area.to_file(AOI_path / 'JAK_HYD_waterways_area_OSM_2024_A.shp')"
   ]
  }
 ],
 "metadata": {
  "kernelspec": {
   "display_name": "Python 3",
   "language": "python",
   "name": "python3"
  },
  "language_info": {
   "codemirror_mode": {
    "name": "ipython",
    "version": 3
   },
   "file_extension": ".py",
   "mimetype": "text/x-python",
   "name": "python",
   "nbconvert_exporter": "python",
   "pygments_lexer": "ipython3",
   "version": "3.11.8"
  }
 },
 "nbformat": 4,
 "nbformat_minor": 2
}
